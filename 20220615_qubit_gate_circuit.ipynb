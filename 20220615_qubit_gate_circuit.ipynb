{
 "cells": [
  {
   "cell_type": "markdown",
   "metadata": {
    "colab_type": "text",
    "id": "ZtFUtiLGn8ak",
    "slideshow": {
     "slide_type": "slide"
    }
   },
   "source": [
    "# Programming Quantum Bits with Qiskit\n",
    "\n",
    "\n",
    "Last updated on June 16, 2022\n",
    "\n",
    "A notebook accompanying the presentation at [a tutorial of the 36th JSAI](https://www.ai-gakkai.or.jp/jsai2022/tutorial) on June 17, 2022 in Kyoto.\n",
    "\n",
    "https://www.ai-gakkai.or.jp/jsai2022/tutorial\n",
    "\n",
    "\n",
    "Rudy Raymond\n",
    "rudyhar@jp.ibm.com"
   ]
  },
  {
   "cell_type": "markdown",
   "metadata": {
    "colab_type": "text",
    "id": "TRlGW16qn8al",
    "slideshow": {
     "slide_type": "slide"
    }
   },
   "source": [
    "# Outline of this notebook\n",
    "\n",
    "* Installation and Getting Started\n",
    "  * What is Qiskit?\n",
    "  * Quantum Superposition\n",
    "  * Quantum Entanglement\n",
    "* Checking equivalence of circuits"
   ]
  },
  {
   "cell_type": "markdown",
   "metadata": {
    "colab_type": "text",
    "id": "BkiY2ilrn8am",
    "slideshow": {
     "slide_type": "slide"
    }
   },
   "source": [
    "But first, install qiskit:"
   ]
  },
  {
   "cell_type": "code",
   "execution_count": 1,
   "metadata": {
    "colab": {},
    "colab_type": "code",
    "id": "-whQPlQan8an",
    "slideshow": {
     "slide_type": "fragment"
    }
   },
   "outputs": [
    {
     "name": "stdout",
     "output_type": "stream",
     "text": [
      "Requirement already satisfied: qiskit in /opt/conda/lib/python3.8/site-packages (0.35.0)\n",
      "Requirement already satisfied: qiskit-ibmq-provider==0.18.3 in /opt/conda/lib/python3.8/site-packages (from qiskit) (0.18.3)\n",
      "Requirement already satisfied: qiskit-aer==0.10.3 in /opt/conda/lib/python3.8/site-packages (from qiskit) (0.10.3)\n",
      "Requirement already satisfied: qiskit-terra==0.20.0 in /opt/conda/lib/python3.8/site-packages (from qiskit) (0.20.0)\n",
      "Requirement already satisfied: qiskit-ignis==0.7.0 in /opt/conda/lib/python3.8/site-packages (from qiskit) (0.7.0)\n",
      "Requirement already satisfied: numpy>=1.16.3 in /opt/conda/lib/python3.8/site-packages (from qiskit-aer==0.10.3->qiskit) (1.21.5)\n",
      "Requirement already satisfied: scipy>=1.0 in /opt/conda/lib/python3.8/site-packages (from qiskit-aer==0.10.3->qiskit) (1.8.0)\n",
      "Requirement already satisfied: urllib3>=1.21.1 in /opt/conda/lib/python3.8/site-packages (from qiskit-ibmq-provider==0.18.3->qiskit) (1.26.9)\n",
      "Requirement already satisfied: requests-ntlm>=1.1.0 in /opt/conda/lib/python3.8/site-packages (from qiskit-ibmq-provider==0.18.3->qiskit) (1.1.0)\n",
      "Requirement already satisfied: websocket-client>=1.0.1 in /opt/conda/lib/python3.8/site-packages (from qiskit-ibmq-provider==0.18.3->qiskit) (1.3.2)\n",
      "Requirement already satisfied: requests>=2.19 in /opt/conda/lib/python3.8/site-packages (from qiskit-ibmq-provider==0.18.3->qiskit) (2.27.1)\n",
      "Requirement already satisfied: python-dateutil>=2.8.0 in /opt/conda/lib/python3.8/site-packages (from qiskit-ibmq-provider==0.18.3->qiskit) (2.8.2)\n",
      "Requirement already satisfied: setuptools>=40.1.0 in /opt/conda/lib/python3.8/site-packages (from qiskit-ignis==0.7.0->qiskit) (61.2.0)\n",
      "Requirement already satisfied: retworkx>=0.8.0 in /opt/conda/lib/python3.8/site-packages (from qiskit-ignis==0.7.0->qiskit) (0.11.0)\n",
      "Requirement already satisfied: tweedledum<2.0,>=1.1 in /opt/conda/lib/python3.8/site-packages (from qiskit-terra==0.20.0->qiskit) (1.1.1)\n",
      "Requirement already satisfied: symengine>=0.9 in /opt/conda/lib/python3.8/site-packages (from qiskit-terra==0.20.0->qiskit) (0.9.2)\n",
      "Requirement already satisfied: ply>=3.10 in /opt/conda/lib/python3.8/site-packages (from qiskit-terra==0.20.0->qiskit) (3.11)\n",
      "Requirement already satisfied: stevedore>=3.0.0 in /opt/conda/lib/python3.8/site-packages (from qiskit-terra==0.20.0->qiskit) (3.5.0)\n",
      "Requirement already satisfied: sympy>=1.3 in /opt/conda/lib/python3.8/site-packages (from qiskit-terra==0.20.0->qiskit) (1.10.1)\n",
      "Requirement already satisfied: dill>=0.3 in /opt/conda/lib/python3.8/site-packages (from qiskit-terra==0.20.0->qiskit) (0.3.4)\n",
      "Requirement already satisfied: psutil>=5 in /opt/conda/lib/python3.8/site-packages (from qiskit-terra==0.20.0->qiskit) (5.9.0)\n",
      "Requirement already satisfied: python-constraint>=1.4 in /opt/conda/lib/python3.8/site-packages (from qiskit-terra==0.20.0->qiskit) (1.4.0)\n",
      "Requirement already satisfied: six>=1.5 in /opt/conda/lib/python3.8/site-packages (from python-dateutil>=2.8.0->qiskit-ibmq-provider==0.18.3->qiskit) (1.16.0)\n",
      "Requirement already satisfied: idna<4,>=2.5 in /opt/conda/lib/python3.8/site-packages (from requests>=2.19->qiskit-ibmq-provider==0.18.3->qiskit) (3.3)\n",
      "Requirement already satisfied: certifi>=2017.4.17 in /opt/conda/lib/python3.8/site-packages (from requests>=2.19->qiskit-ibmq-provider==0.18.3->qiskit) (2021.10.8)\n",
      "Requirement already satisfied: charset-normalizer~=2.0.0 in /opt/conda/lib/python3.8/site-packages (from requests>=2.19->qiskit-ibmq-provider==0.18.3->qiskit) (2.0.12)\n",
      "Requirement already satisfied: cryptography>=1.3 in /opt/conda/lib/python3.8/site-packages (from requests-ntlm>=1.1.0->qiskit-ibmq-provider==0.18.3->qiskit) (36.0.2)\n",
      "Requirement already satisfied: ntlm-auth>=1.0.2 in /opt/conda/lib/python3.8/site-packages (from requests-ntlm>=1.1.0->qiskit-ibmq-provider==0.18.3->qiskit) (1.5.0)\n",
      "Requirement already satisfied: cffi>=1.12 in /opt/conda/lib/python3.8/site-packages (from cryptography>=1.3->requests-ntlm>=1.1.0->qiskit-ibmq-provider==0.18.3->qiskit) (1.15.0)\n",
      "Requirement already satisfied: pycparser in /opt/conda/lib/python3.8/site-packages (from cffi>=1.12->cryptography>=1.3->requests-ntlm>=1.1.0->qiskit-ibmq-provider==0.18.3->qiskit) (2.21)\n",
      "Requirement already satisfied: pbr!=2.1.0,>=2.0.0 in /opt/conda/lib/python3.8/site-packages (from stevedore>=3.0.0->qiskit-terra==0.20.0->qiskit) (5.8.1)\n",
      "Requirement already satisfied: mpmath>=0.19 in /opt/conda/lib/python3.8/site-packages (from sympy>=1.3->qiskit-terra==0.20.0->qiskit) (1.2.1)\n"
     ]
    }
   ],
   "source": [
    "!pip install qiskit"
   ]
  },
  {
   "cell_type": "markdown",
   "metadata": {
    "slideshow": {
     "slide_type": "slide"
    }
   },
   "source": [
    "We can check the version of qiskit installed by:"
   ]
  },
  {
   "cell_type": "code",
   "execution_count": 2,
   "metadata": {
    "slideshow": {
     "slide_type": "fragment"
    }
   },
   "outputs": [
    {
     "name": "stderr",
     "output_type": "stream",
     "text": [
      "<frozen importlib._bootstrap>:219: RuntimeWarning: scipy._lib.messagestream.MessageStream size changed, may indicate binary incompatibility. Expected 56 from C header, got 64 from PyObject\n"
     ]
    },
    {
     "name": "stdout",
     "output_type": "stream",
     "text": [
      "{'qiskit-terra': '0.20.0', 'qiskit-aer': '0.10.3', 'qiskit-ignis': '0.7.0', 'qiskit-ibmq-provider': '0.18.3', 'qiskit-aqua': None, 'qiskit': '0.35.0', 'qiskit-nature': '0.3.2', 'qiskit-finance': '0.3.1', 'qiskit-optimization': '0.3.2', 'qiskit-machine-learning': '0.3.1'}\n"
     ]
    }
   ],
   "source": [
    "import qiskit\n",
    "from pprint import pprint\n",
    "pprint(qiskit.__qiskit_version__)"
   ]
  },
  {
   "cell_type": "markdown",
   "metadata": {
    "colab_type": "text",
    "id": "OTfUBhRKn8av",
    "slideshow": {
     "slide_type": "slide"
    }
   },
   "source": [
    "# Installation Steps\n",
    "\n",
    "  * Please follow the official steps here: https://qiskit.org/documentation/install.html\n",
    "  * Otherwise, follow the un-official steps here: https://github.com/t-imamichi/qiskit-utility/wiki/Unofficial-installation-guide-of-qiskit\n",
    "\n",
    "Keep in mind:\n",
    "  * **Qiskit is very much a work in progress**. It is changing rapidly to converge toward the needs of its users."
   ]
  },
  {
   "cell_type": "markdown",
   "metadata": {
    "colab_type": "text",
    "id": "ORecfudhn8av",
    "slideshow": {
     "slide_type": "slide"
    }
   },
   "source": [
    "# Quantum Superposition\n",
    "\n",
    "Let's start programing with the simplest case using one qubit."
   ]
  },
  {
   "cell_type": "code",
   "execution_count": 3,
   "metadata": {
    "colab": {},
    "colab_type": "code",
    "id": "I-M48ahen8ax",
    "slideshow": {
     "slide_type": "fragment"
    }
   },
   "outputs": [],
   "source": [
    "from qiskit import QuantumRegister, ClassicalRegister, QuantumCircuit\n",
    "import numpy as np\n",
    "%matplotlib inline"
   ]
  },
  {
   "cell_type": "code",
   "execution_count": 4,
   "metadata": {
    "colab": {},
    "colab_type": "code",
    "id": "sLcNU3Tln8az",
    "slideshow": {
     "slide_type": "fragment"
    }
   },
   "outputs": [],
   "source": [
    "# Create a Quantum Register with 1 qubit\n",
    "qr = QuantumRegister(1)\n",
    "\n",
    "# Create a Classical Register with 1 bit\n",
    "# Necessary to measure/know the value of the quantum bit with measurement\n",
    "cr = ClassicalRegister(1)\n",
    "\n",
    "# Create a Quantum Circuit acting on the qr and cr register\n",
    "circuit = QuantumCircuit(qr, cr)"
   ]
  },
  {
   "cell_type": "markdown",
   "metadata": {
    "colab_type": "text",
    "id": "2SxxBEhwn8a1",
    "slideshow": {
     "slide_type": "slide"
    }
   },
   "source": [
    "# QuantumCircuits are the primitives for Quantum Computing\n",
    "* QuantumCircuits in Qiskit are backend agnostic: runnable with simulators or real devices\n",
    "* They contain a list of gates in the circuit and initialized with:\n",
    "  * name - for referencing the circuit later (e.g. in the results object)\n",
    "  * regs - the QuantumRegisters and ClassicalRegisters in the gates of the circuit\n"
   ]
  },
  {
   "cell_type": "markdown",
   "metadata": {
    "colab_type": "text",
    "id": "vwhE_Sgwn8a2",
    "slideshow": {
     "slide_type": "slide"
    }
   },
   "source": [
    "# Quantum Gates\n",
    "\n",
    "There are many gates defined in Qiskit. The basis gateset of the IBM Q devices is {CX, u3}: all other single- and mult-qubit gates are defined from the combination of those gatesets. \n",
    "\n",
    "The list of available gates is [here](https://github.com/Qiskit/qiskit-iqx-tutorials/blob/master/qiskit/fundamentals/7_summary_of_quantum_operations.ipynb).\n",
    "\n",
    "After we add some gates, we can print our circuit's Qasm (a kind of assembler code with basis gates)"
   ]
  },
  {
   "cell_type": "code",
   "execution_count": 5,
   "metadata": {
    "colab": {},
    "colab_type": "code",
    "id": "SHtwqu-nn8a3",
    "outputId": "f37d6ba7-5c13-4a22-e6b6-d62e7b3b4114",
    "slideshow": {
     "slide_type": "fragment"
    }
   },
   "outputs": [
    {
     "name": "stdout",
     "output_type": "stream",
     "text": [
      "OPENQASM 2.0;\n",
      "include \"qelib1.inc\";\n",
      "qreg q0[1];\n",
      "creg c0[1];\n",
      "h q0[0];\n",
      "\n"
     ]
    }
   ],
   "source": [
    "# flip gate on qubit 0\n",
    "#circuit.x(qr[0])\n",
    "# Hadamard gate on qubit 0\n",
    "circuit.h(qr[0])\n",
    "\n",
    "print(circuit.qasm())"
   ]
  },
  {
   "cell_type": "markdown",
   "metadata": {
    "colab_type": "text",
    "id": "jFbIWFVqn8a6",
    "slideshow": {
     "slide_type": "slide"
    }
   },
   "source": [
    "We can also use the `draw()` function to visualize the circuit:"
   ]
  },
  {
   "cell_type": "code",
   "execution_count": 9,
   "metadata": {
    "colab": {},
    "colab_type": "code",
    "id": "XRNmW0hyn8a8",
    "outputId": "6bcff3d0-ebf3-4bdf-9364-ead738828d5a",
    "slideshow": {
     "slide_type": "fragment"
    }
   },
   "outputs": [
    {
     "data": {
      "image/png": "[encoded data removed]",
      "text/plain": [
       "<Figure size 146.507x144.48 with 1 Axes>"
      ]
     },
     "execution_count": 9,
     "metadata": {},
     "output_type": "execute_result"
    }
   ],
   "source": [
    "#circuit.draw()\n",
    "circuit.draw(output=\"mpl\")\n",
    "#circuit.draw(output=\"latex\")"
   ]
  },
  {
   "cell_type": "markdown",
   "metadata": {
    "colab_type": "text",
    "id": "zCQZsPIcn8a-",
    "slideshow": {
     "slide_type": "slide"
    }
   },
   "source": [
    "Let us run the circuit with a simulator backend that we can use for debugging and learning quantum gates. "
   ]
  },
  {
   "cell_type": "code",
   "execution_count": 10,
   "metadata": {
    "colab": {},
    "colab_type": "code",
    "id": "JDPqALLKn8bA",
    "outputId": "0bcaba26-446c-4146-b220-b18c5baee659",
    "slideshow": {
     "slide_type": "fragment"
    }
   },
   "outputs": [
    {
     "name": "stdout",
     "output_type": "stream",
     "text": [
      "[0.7071+0.j 0.7071+0.j]\n"
     ]
    }
   ],
   "source": [
    "from qiskit import BasicAer as Aer\n",
    "from qiskit import execute\n",
    "\n",
    "stv_backend = Aer.get_backend('statevector_simulator')\n",
    "\n",
    "job = execute(circuit, stv_backend)\n",
    "\n",
    "result = job.result()\n",
    "\n",
    "output_state = result.get_statevector(circuit, decimals=4)\n",
    "print(output_state)"
   ]
  },
  {
   "cell_type": "markdown",
   "metadata": {
    "slideshow": {
     "slide_type": "slide"
    }
   },
   "source": [
    "We can also plot the state vector on the bloch sphere."
   ]
  },
  {
   "cell_type": "code",
   "execution_count": 11,
   "metadata": {
    "slideshow": {
     "slide_type": "fragment"
    }
   },
   "outputs": [
    {
     "data": {
      "image/png": "[encoded data removed]",
      "text/plain": [
       "<Figure size 288x288 with 1 Axes>"
      ]
     },
     "execution_count": 11,
     "metadata": {},
     "output_type": "execute_result"
    }
   ],
   "source": [
    "from qiskit.visualization import plot_bloch_multivector\n",
    "\n",
    "plot_bloch_multivector(output_state)"
   ]
  },
  {
   "cell_type": "markdown",
   "metadata": {
    "slideshow": {
     "slide_type": "slide"
    }
   },
   "source": [
    "We can find out the unitary matrix corresponding to the sequence of gates in the circuit with the unitary simulator backend: "
   ]
  },
  {
   "cell_type": "code",
   "execution_count": 12,
   "metadata": {
    "slideshow": {
     "slide_type": "fragment"
    }
   },
   "outputs": [
    {
     "name": "stdout",
     "output_type": "stream",
     "text": [
      "array([[ 0.7071+0.j,  0.7071-0.j],\n",
      "       [ 0.7071+0.j, -0.7071+0.j]])\n"
     ]
    }
   ],
   "source": [
    "uni_backend = Aer.get_backend(\"unitary_simulator\")\n",
    "\n",
    "job = execute(circuit, uni_backend)\n",
    "result = job.result()\n",
    "pprint(result.get_unitary(circuit, decimals=4))"
   ]
  },
  {
   "cell_type": "markdown",
   "metadata": {
    "slideshow": {
     "slide_type": "slide"
    }
   },
   "source": [
    "# Tips\n",
    "Showing the equivalence of gates/circuits becomes easy:"
   ]
  },
  {
   "cell_type": "code",
   "execution_count": 13,
   "metadata": {
    "slideshow": {
     "slide_type": "fragment"
    }
   },
   "outputs": [
    {
     "data": {
      "image/png": "[encoded data removed]",
      "text/plain": [
       "<Figure size 159.923x144.48 with 1 Axes>"
      ]
     },
     "execution_count": 13,
     "metadata": {},
     "output_type": "execute_result"
    }
   ],
   "source": [
    "_q1 = QuantumRegister(2)\n",
    "\n",
    "_qc1 = QuantumCircuit(_q1)\n",
    "_qc1.cx(_q1[0], _q1[1])\n",
    "\n",
    "_qc1.draw(output=\"mpl\")"
   ]
  },
  {
   "cell_type": "code",
   "execution_count": 14,
   "metadata": {
    "slideshow": {
     "slide_type": "fragment"
    }
   },
   "outputs": [
    {
     "data": {
      "image/png": "[encoded data removed]",
      "text/plain": [
       "<Figure size 293.159x144.48 with 1 Axes>"
      ]
     },
     "execution_count": 14,
     "metadata": {},
     "output_type": "execute_result"
    }
   ],
   "source": [
    "_q2 = QuantumRegister(2)\n",
    "\n",
    "_qc2 = QuantumCircuit(_q2)\n",
    "_qc2.h(_q2[1])\n",
    "_qc2.cz(_q2[0], _q2[1])\n",
    "_qc2.h(_q2[1])\n",
    "\n",
    "_qc2.draw(output=\"mpl\")"
   ]
  },
  {
   "cell_type": "code",
   "execution_count": 15,
   "metadata": {
    "slideshow": {
     "slide_type": "fragment"
    }
   },
   "outputs": [
    {
     "name": "stdout",
     "output_type": "stream",
     "text": [
      "'CX'\n",
      "array([[1.+0.j, 0.+0.j, 0.+0.j, 0.+0.j],\n",
      "       [0.+0.j, 0.+0.j, 0.+0.j, 1.+0.j],\n",
      "       [0.+0.j, 0.+0.j, 1.+0.j, 0.+0.j],\n",
      "       [0.+0.j, 1.+0.j, 0.+0.j, 0.+0.j]])\n",
      "'I-H CZ I-H'\n",
      "array([[1.+0.j, 0.+0.j, 0.+0.j, 0.+0.j],\n",
      "       [0.+0.j, 0.+0.j, 0.+0.j, 1.+0.j],\n",
      "       [0.+0.j, 0.+0.j, 1.+0.j, 0.+0.j],\n",
      "       [0.+0.j, 1.+0.j, 0.+0.j, 0.+0.j]])\n"
     ]
    }
   ],
   "source": [
    "_job1 = execute(_qc1, uni_backend)\n",
    "_result1 = _job1.result()\n",
    "\n",
    "_job2 = execute(_qc2, uni_backend)\n",
    "_result2 = _job2.result()\n",
    "\n",
    "pprint(\"CX\")\n",
    "pprint(_result1.get_unitary(_qc1, decimals=4))\n",
    "\n",
    "pprint(\"I-H CZ I-H\")\n",
    "pprint(_result2.get_unitary(_qc2, decimals=4))"
   ]
  },
  {
   "cell_type": "markdown",
   "metadata": {
    "slideshow": {
     "slide_type": "fragment"
    }
   },
   "source": [
    "Notice that the matrix of Controlled-NOT (\"CX\") in qiskit looks different from that in the textbook:\n",
    "\n",
    "**Textbook (left-to-right bit ordering)**\n",
    "$$\n",
    "\\left|0\\right>\\left<0\\right| \\otimes \\mathbf{I} + \\left|0\\right>\\left<0\\right| \\otimes \\mathbf{X}\n",
    "$$\n",
    "\n",
    "**Qiskit (right-to-left bit ordering)**\n",
    "$$\n",
    "\\mathbf{I} \\otimes \\left|0\\right>\\left<0\\right| + \\mathbf{X} \\otimes \\left|1\\right>\\left<1\\right|\n",
    "$$"
   ]
  },
  {
   "cell_type": "code",
   "execution_count": 16,
   "metadata": {
    "slideshow": {
     "slide_type": "slide"
    }
   },
   "outputs": [
    {
     "data": {
      "image/png": "[encoded data removed]",
      "text/plain": [
       "<Figure size 173.195x204.68 with 1 Axes>"
      ]
     },
     "execution_count": 16,
     "metadata": {},
     "output_type": "execute_result"
    }
   ],
   "source": [
    "# The first circuit consists of a Toffoli gate\n",
    "q1 = QuantumRegister(3)\n",
    "qc1 = QuantumCircuit(q1)\n",
    "\n",
    "qc1.ccx(q1[0], q1[1], q1[2])\n",
    "\n",
    "qc1.draw(output=\"mpl\")"
   ]
  },
  {
   "cell_type": "code",
   "execution_count": 17,
   "metadata": {
    "slideshow": {
     "slide_type": "fragment"
    }
   },
   "outputs": [
    {
     "data": {
      "image/png": "[encoded data removed]",
      "text/plain": [
       "<Figure size 835.54x204.68 with 1 Axes>"
      ]
     },
     "execution_count": 17,
     "metadata": {},
     "output_type": "execute_result"
    }
   ],
   "source": [
    "# Decomposition of Toffoli gate\n",
    "q = QuantumRegister(3)\n",
    "qc = QuantumCircuit(q)\n",
    "\n",
    "qc.h(q[2])\n",
    "qc.cx(q[1], q[2])\n",
    "qc.tdg(q[2])\n",
    "qc.cx(q[0], q[2])\n",
    "qc.t(q[2])\n",
    "qc.cx(q[1], q[2])\n",
    "qc.tdg(q[2])\n",
    "qc.cx(q[0], q[2])\n",
    "qc.tdg(q[1])\n",
    "qc.t(q[2])\n",
    "qc.h(q[2])\n",
    "qc.cx(q[0], q[1])\n",
    "qc.tdg(q[1])\n",
    "qc.cx(q[0], q[1])\n",
    "qc.t(q[0])\n",
    "qc.s(q[1])\n",
    "qc.draw(output=\"mpl\")"
   ]
  },
  {
   "cell_type": "code",
   "execution_count": 18,
   "metadata": {
    "slideshow": {
     "slide_type": "fragment"
    }
   },
   "outputs": [
    {
     "data": {
      "image/png": "[encoded data removed]",
      "text/plain": [
       "<Figure size 895.74x204.68 with 1 Axes>"
      ]
     },
     "execution_count": 18,
     "metadata": {},
     "output_type": "execute_result"
    }
   ],
   "source": [
    "from qiskit import BasicAer as Aer\n",
    "from qiskit import execute\n",
    "uni_backend = Aer.get_backend(\"unitary_simulator\")\n",
    "\n",
    "#append to qc the toffoli gate\n",
    "qc.ccx(q[0], q[1], q[2])\n",
    "\n",
    "#confirm that the Toffoli gate is appended\n",
    "qc.draw(output=\"mpl\")"
   ]
  },
  {
   "cell_type": "code",
   "execution_count": 19,
   "metadata": {
    "slideshow": {
     "slide_type": "fragment"
    }
   },
   "outputs": [
    {
     "name": "stdout",
     "output_type": "stream",
     "text": [
      "array([[1.-0.j, 0.+0.j, 0.+0.j, 0.+0.j, 0.+0.j, 0.+0.j, 0.+0.j, 0.+0.j],\n",
      "       [0.+0.j, 1.-0.j, 0.+0.j, 0.+0.j, 0.+0.j, 0.+0.j, 0.+0.j, 0.+0.j],\n",
      "       [0.+0.j, 0.+0.j, 1.-0.j, 0.+0.j, 0.+0.j, 0.+0.j, 0.+0.j, 0.+0.j],\n",
      "       [0.+0.j, 0.+0.j, 0.+0.j, 1.-0.j, 0.+0.j, 0.+0.j, 0.+0.j, 0.+0.j],\n",
      "       [0.+0.j, 0.+0.j, 0.+0.j, 0.+0.j, 1.-0.j, 0.+0.j, 0.+0.j, 0.+0.j],\n",
      "       [0.+0.j, 0.+0.j, 0.+0.j, 0.+0.j, 0.+0.j, 1.-0.j, 0.+0.j, 0.+0.j],\n",
      "       [0.+0.j, 0.+0.j, 0.+0.j, 0.+0.j, 0.+0.j, 0.+0.j, 1.-0.j, 0.+0.j],\n",
      "       [0.+0.j, 0.+0.j, 0.+0.j, 0.+0.j, 0.+0.j, 0.+0.j, 0.+0.j, 1.-0.j]])\n"
     ]
    }
   ],
   "source": [
    "#run the unitary simulator\n",
    "job = execute(qc, uni_backend)\n",
    "result = job.result()\n",
    "from pprint import pprint\n",
    "pprint(result.get_unitary(qc, decimals=4))"
   ]
  },
  {
   "cell_type": "code",
   "execution_count": 20,
   "metadata": {
    "slideshow": {
     "slide_type": "fragment"
    }
   },
   "outputs": [
    {
     "data": {
      "text/plain": [
       "True"
      ]
     },
     "execution_count": 20,
     "metadata": {},
     "output_type": "execute_result"
    }
   ],
   "source": [
    "#to be sure we can compare with identity\n",
    "import numpy as np\n",
    "\n",
    "toffoli_plus_toffoli = result.get_unitary(qc)\n",
    "\n",
    "#check if all elements of the two arrays are close within a tolerance\n",
    "np.allclose(toffoli_plus_toffoli, np.eye(8))"
   ]
  },
  {
   "cell_type": "markdown",
   "metadata": {
    "colab_type": "text",
    "id": "f3likmgcn8bD",
    "slideshow": {
     "slide_type": "slide"
    }
   },
   "source": [
    "Let us get back to the 1-qubit circuit we wrote before: "
   ]
  },
  {
   "cell_type": "code",
   "execution_count": 21,
   "metadata": {
    "slideshow": {
     "slide_type": "-"
    }
   },
   "outputs": [
    {
     "data": {
      "image/png": "[encoded data removed]",
      "text/plain": [
       "<Figure size 146.507x144.48 with 1 Axes>"
      ]
     },
     "execution_count": 21,
     "metadata": {},
     "output_type": "execute_result"
    }
   ],
   "source": [
    "circuit.draw(output=\"mpl\")"
   ]
  },
  {
   "cell_type": "markdown",
   "metadata": {
    "slideshow": {
     "slide_type": "-"
    }
   },
   "source": [
    "Measurement must be made to access the information within the qubit:"
   ]
  },
  {
   "cell_type": "code",
   "execution_count": 22,
   "metadata": {
    "slideshow": {
     "slide_type": "fragment"
    }
   },
   "outputs": [
    {
     "name": "stderr",
     "output_type": "stream",
     "text": [
      "/tmp/ipykernel_79/3864611654.py:5: DeprecationWarning: The QuantumCircuit.__add__() method is being deprecated.Use the compose() method which is more flexible w.r.t circuit register compatibility.\n",
      "  qc = circuit + meas\n"
     ]
    },
    {
     "data": {
      "image/png": "[encoded data removed]",
      "text/plain": [
       "<Figure size 266.907x144.48 with 1 Axes>"
      ]
     },
     "execution_count": 22,
     "metadata": {},
     "output_type": "execute_result"
    }
   ],
   "source": [
    "meas = QuantumCircuit(qr, cr)\n",
    "meas.barrier(qr)\n",
    "meas.measure(qr, cr)\n",
    "\n",
    "qc = circuit + meas\n",
    "\n",
    "qc.draw(output=\"mpl\")"
   ]
  },
  {
   "cell_type": "markdown",
   "metadata": {},
   "source": [
    "**Deprecated \"+\" operation of Circuits**\n",
    "\n",
    "\n",
    "We really should use the compose function as below"
   ]
  },
  {
   "cell_type": "code",
   "execution_count": 53,
   "metadata": {},
   "outputs": [
    {
     "data": {
      "image/png": "[encoded data removed]",
      "text/plain": [
       "<Figure size 266.907x144.48 with 1 Axes>"
      ]
     },
     "execution_count": 53,
     "metadata": {},
     "output_type": "execute_result"
    }
   ],
   "source": [
    "qc = circuit.compose(meas) #use this instead of circuit + meas\n",
    "\n",
    "qc.draw(output=\"mpl\")"
   ]
  },
  {
   "cell_type": "markdown",
   "metadata": {
    "slideshow": {
     "slide_type": "fragment"
    }
   },
   "source": [
    "We can simulate the measurement results (as if running the circuit on the real device)."
   ]
  },
  {
   "cell_type": "code",
   "execution_count": 23,
   "metadata": {
    "colab": {},
    "colab_type": "code",
    "id": "ccwa6l2Cn8bE",
    "outputId": "6af49d3e-db46-439f-c857-15189d5608d6",
    "slideshow": {
     "slide_type": "fragment"
    }
   },
   "outputs": [
    {
     "name": "stdout",
     "output_type": "stream",
     "text": [
      "{'0': 520, '1': 480}\n"
     ]
    }
   ],
   "source": [
    "sim_backend = Aer.get_backend(\"qasm_simulator\")\n",
    "\n",
    "nshots = 1000\n",
    "\n",
    "job_sim = execute(qc, sim_backend, shots=nshots)\n",
    "\n",
    "result_sim = job_sim.result()\n",
    "\n",
    "counts = result_sim.get_counts(qc)\n",
    "pprint(counts)"
   ]
  },
  {
   "cell_type": "code",
   "execution_count": 24,
   "metadata": {
    "slideshow": {
     "slide_type": "fragment"
    }
   },
   "outputs": [
    {
     "data": {
      "image/png": "[encoded data removed]",
      "text/plain": [
       "<Figure size 504x360 with 1 Axes>"
      ]
     },
     "execution_count": 24,
     "metadata": {},
     "output_type": "execute_result"
    }
   ],
   "source": [
    "#plotting with histogram\n",
    "from qiskit.visualization import plot_histogram\n",
    "\n",
    "plot_histogram(counts)"
   ]
  },
  {
   "cell_type": "markdown",
   "metadata": {
    "slideshow": {
     "slide_type": "slide"
    }
   },
   "source": [
    "We can check the probability of measuring \"0\" and \"1\" with the previous circuit, that outputs $\\left|+\\right> = \\frac{1}{\\sqrt{2}} \\left( \\left|0\\right> + \\left|1\\right> \\right)$, is the same with the following circuit, that outputs $\\left|-\\right> = \\frac{1}{\\sqrt{2}} \\left( \\left|0\\right> - \\left|1\\right> \\right)$."
   ]
  },
  {
   "cell_type": "code",
   "execution_count": 25,
   "metadata": {},
   "outputs": [
    {
     "name": "stderr",
     "output_type": "stream",
     "text": [
      "/tmp/ipykernel_79/3524192106.py:4: DeprecationWarning: The QuantumCircuit.__add__() method is being deprecated.Use the compose() method which is more flexible w.r.t circuit register compatibility.\n",
      "  qc = circuit + zg + meas\n"
     ]
    },
    {
     "data": {
      "image/png": "[encoded data removed]",
      "text/plain": [
       "<Figure size 327.107x144.48 with 1 Axes>"
      ]
     },
     "execution_count": 25,
     "metadata": {},
     "output_type": "execute_result"
    }
   ],
   "source": [
    "zg = QuantumCircuit(qr, cr)\n",
    "zg.z(qr[0])\n",
    "\n",
    "qc = circuit + zg + meas\n",
    "qc.draw(output=\"mpl\")"
   ]
  },
  {
   "cell_type": "code",
   "execution_count": 26,
   "metadata": {},
   "outputs": [
    {
     "data": {
      "image/png": "[encoded data removed]",
      "text/plain": [
       "<Figure size 504x360 with 1 Axes>"
      ]
     },
     "execution_count": 26,
     "metadata": {},
     "output_type": "execute_result"
    }
   ],
   "source": [
    "job_sim = execute(qc, sim_backend, shots=nshots)\n",
    "\n",
    "result_sim = job_sim.result()\n",
    "\n",
    "counts = result_sim.get_counts(qc)\n",
    "plot_histogram(counts)"
   ]
  },
  {
   "cell_type": "markdown",
   "metadata": {
    "slideshow": {
     "slide_type": "slide"
    }
   },
   "source": [
    "How to differentiate $\\left|+\\right>$ and $\\left|-\\right>$ states? In this case, we can rotate the states before measurement in the computational bases. "
   ]
  },
  {
   "cell_type": "code",
   "execution_count": 27,
   "metadata": {
    "slideshow": {
     "slide_type": "fragment"
    }
   },
   "outputs": [
    {
     "name": "stderr",
     "output_type": "stream",
     "text": [
      "/tmp/ipykernel_79/1069670493.py:5: DeprecationWarning: The QuantumCircuit.__add__() method is being deprecated.Use the compose() method which is more flexible w.r.t circuit register compatibility.\n",
      "  qc1 = circuit + hg + meas\n",
      "/tmp/ipykernel_79/1069670493.py:6: DeprecationWarning: The QuantumCircuit.__add__() method is being deprecated.Use the compose() method which is more flexible w.r.t circuit register compatibility.\n",
      "  qc2 = circuit + zg + hg + meas\n"
     ]
    },
    {
     "data": {
      "image/png": "[encoded data removed]",
      "text/plain": [
       "<Figure size 387.307x144.48 with 1 Axes>"
      ]
     },
     "execution_count": 27,
     "metadata": {},
     "output_type": "execute_result"
    }
   ],
   "source": [
    "hg = QuantumCircuit(qr, cr)\n",
    "hg.barrier(qr[0])\n",
    "hg.h(qr[0])\n",
    "\n",
    "qc1 = circuit + hg + meas\n",
    "qc2 = circuit + zg + hg + meas\n",
    "\n",
    "qc1.draw(output=\"mpl\")"
   ]
  },
  {
   "cell_type": "code",
   "execution_count": 28,
   "metadata": {
    "slideshow": {
     "slide_type": "fragment"
    }
   },
   "outputs": [
    {
     "data": {
      "image/png": "[encoded data removed]",
      "text/plain": [
       "<Figure size 447.507x144.48 with 1 Axes>"
      ]
     },
     "execution_count": 28,
     "metadata": {},
     "output_type": "execute_result"
    }
   ],
   "source": [
    "qc2.draw(output=\"mpl\")"
   ]
  },
  {
   "cell_type": "code",
   "execution_count": 29,
   "metadata": {
    "slideshow": {
     "slide_type": "fragment"
    }
   },
   "outputs": [
    {
     "data": {
      "image/png": "[encoded data removed]",
      "text/plain": [
       "<Figure size 504x360 with 1 Axes>"
      ]
     },
     "execution_count": 29,
     "metadata": {},
     "output_type": "execute_result"
    }
   ],
   "source": [
    "job_sim = execute(qc1, sim_backend, shots=nshots)\n",
    "\n",
    "result_sim = job_sim.result()\n",
    "\n",
    "counts = result_sim.get_counts(qc1)\n",
    "plot_histogram(counts)"
   ]
  },
  {
   "cell_type": "markdown",
   "metadata": {
    "colab_type": "text",
    "id": "IBa5x39Sn8bI",
    "slideshow": {
     "slide_type": "slide"
    }
   },
   "source": [
    "# Quantum Entanglement\n",
    "\n",
    "Quantum entanglement is another powerful feature of quantum bits. Let us see the entangled state of the quantum bits from the following circuit. The qubits are called **entangled** if their state cannot be written as the tensor product of the states of their individual qubits, i.e., $\\left|\\psi\\right>_{12} \\neq \\left|\\phi\\right>_1 \\otimes \\left|\\phi\\right>_2$."
   ]
  },
  {
   "cell_type": "code",
   "execution_count": 30,
   "metadata": {},
   "outputs": [
    {
     "data": {
      "image/png": "[encoded data removed]",
      "text/plain": [
       "<Figure size 229.49x204.68 with 1 Axes>"
      ]
     },
     "execution_count": 30,
     "metadata": {},
     "output_type": "execute_result"
    }
   ],
   "source": [
    "qra = QuantumRegister(1, \"alice\")\n",
    "qrb = QuantumRegister(1, \"bob\")\n",
    "cr = ClassicalRegister(2)\n",
    "\n",
    "bell = QuantumCircuit(qra, qrb, cr)\n",
    "\n",
    "bell.h(qra[0])\n",
    "bell.cx(qra[0], qrb[0])\n",
    "bell.draw(output=\"mpl\")"
   ]
  },
  {
   "cell_type": "markdown",
   "metadata": {},
   "source": [
    "The quantum state is the famous *EPR*-pair (for Einstein-Podolsky-Rosen), that is, \n",
    "\n",
    "$$\n",
    "\\frac{1}{\\sqrt{2}} \\left( \\left|00\\right> + \\left|11\\right> \\right).\n",
    "$$\n",
    "\n",
    "Notice that the above state is equivalent to\n",
    "\n",
    "$$\n",
    "\\frac{1}{\\sqrt{2}} \\left( \\left|+\\right>\\left|+\\right> + \\left|-\\right>\\left|-\\right> \\right),\n",
    "$$\n",
    "where $\\left|+\\right> = \\frac{1}{\\sqrt{2}} \\left( \\left|0\\right> + \\left|1\\right> \\right)$, and $\\left|-\\right> = \\frac{1}{\\sqrt{2}} \\left( \\left|0\\right> - \\left|1\\right> \\right)$\n"
   ]
  },
  {
   "cell_type": "markdown",
   "metadata": {
    "slideshow": {
     "slide_type": "-"
    }
   },
   "source": [
    "Imagine the two qubit state is shared by two distant parties: Alice (the 1st-qubit) and Bob (the 2nd-qubit). They are free to measure their own qubit either:\n",
    "\n",
    "    1. by measuring in the standard basis\n",
    "    2. or, by measuring in the \"+\", \"-\" basis\n",
    "    \n",
    "The EPR-pair implies that the measurement at one party instantenously effect the measurement result at other party. But, information cannot travel faster than light! Something *spooky* happens with the EPR-pair. We see this partially at our last exercise:\n",
    "\n",
    "1. What is the probability of observing “0” on the first qubit AND “1” on the second qubit? \n",
    "2. What is the probability of observing $\\left|+\\right>$ on the first qubit? What is the state of the qubits after the measurement?\n",
    "3. What is the state of the qubits after measuring the qubits with measurement operators \n",
    "$$\n",
    "\\mathbf{I} \\otimes (\\frac{1}{\\sqrt{3}} \\left|0\\right> + \\frac{\\sqrt{2}}{\\sqrt{3}} \\left|1\\right>)(\\frac{1}{\\sqrt{3}} \\left<0\\right| + \\frac{\\sqrt{2}}{\\sqrt{3}} \\left<1\\right|)\n",
    "$$"
   ]
  },
  {
   "cell_type": "markdown",
   "metadata": {
    "slideshow": {
     "slide_type": "slide"
    }
   },
   "source": [
    "Consider the following cases depending on the choices of measurement basis of Alice and Bob:\n",
    "\n",
    "1. Alice measures in standard basis, Bob in standard basis\n",
    "2. Alice measures in \"+/-\" basis. \n",
    "3. Bob measures in the basis of \n",
    "$$\n",
    "(\\frac{1}{\\sqrt{3}} \\left|0\\right> + \\frac{\\sqrt{2}}{\\sqrt{3}} \\left|1\\right>), (\\frac{\\sqrt{2}}{\\sqrt{3}} \\left|0\\right> - \\frac{1}{\\sqrt{3}} \\left|1\\right>)\n",
    "$$\n",
    "\n",
    "\n"
   ]
  },
  {
   "cell_type": "code",
   "execution_count": 31,
   "metadata": {},
   "outputs": [
    {
     "name": "stderr",
     "output_type": "stream",
     "text": [
      "/tmp/ipykernel_79/4106532267.py:20: DeprecationWarning: The QuantumCircuit.__add__() method is being deprecated.Use the compose() method which is more flexible w.r.t circuit register compatibility.\n",
      "  case1 = bell + alice_std + bob_std\n",
      "/tmp/ipykernel_79/4106532267.py:24: DeprecationWarning: The QuantumCircuit.__add__() method is being deprecated.Use the compose() method which is more flexible w.r.t circuit register compatibility.\n",
      "  case2 = bell + alice_pm + bob_pm\n"
     ]
    }
   ],
   "source": [
    "alice_std = QuantumCircuit(qra, qrb, cr)\n",
    "alice_std.barrier(qra)\n",
    "alice_std.measure(qra[0], cr[0])\n",
    "\n",
    "alice_pm = QuantumCircuit(qra, qrb, cr)\n",
    "alice_pm.barrier(qra)\n",
    "alice_pm.h(qra[0])\n",
    "alice_pm.measure(qra[0], cr[0])\n",
    "\n",
    "bob_std = QuantumCircuit(qra, qrb, cr)\n",
    "bob_std.barrier(qrb)\n",
    "bob_std.measure(qrb[0], cr[1])\n",
    "\n",
    "bob_pm = QuantumCircuit(qra, qrb, cr)\n",
    "bob_pm.barrier(qrb)\n",
    "bob_pm.h(qrb[0])\n",
    "bob_pm.measure(qrb[0], cr[1])\n",
    "\n",
    "#circuit for case 1\n",
    "case1 = bell + alice_std + bob_std\n",
    "\n",
    "#circuit for case 2\n",
    "#case2 = bell + alice_pm\n",
    "case2 = bell + alice_pm + bob_pm"
   ]
  },
  {
   "cell_type": "markdown",
   "metadata": {
    "slideshow": {
     "slide_type": "slide"
    }
   },
   "source": [
    "Plots of the circuits:"
   ]
  },
  {
   "cell_type": "code",
   "execution_count": 32,
   "metadata": {},
   "outputs": [
    {
     "data": {
      "image/png": "[encoded data removed]",
      "text/plain": [
       "<Figure size 410.09x204.68 with 1 Axes>"
      ]
     },
     "execution_count": 32,
     "metadata": {},
     "output_type": "execute_result"
    }
   ],
   "source": [
    "#Alice and Bob in standard basis\n",
    "case1.draw(output=\"mpl\")"
   ]
  },
  {
   "cell_type": "code",
   "execution_count": 33,
   "metadata": {},
   "outputs": [
    {
     "data": {
      "image/png": "[encoded data removed]",
      "text/plain": [
       "<Figure size 470.29x204.68 with 1 Axes>"
      ]
     },
     "execution_count": 33,
     "metadata": {},
     "output_type": "execute_result"
    }
   ],
   "source": [
    "#Alice in pm, Bob does nothing\n",
    "case2.draw(output=\"mpl\")"
   ]
  },
  {
   "cell_type": "markdown",
   "metadata": {
    "slideshow": {
     "slide_type": "slide"
    }
   },
   "source": [
    "# Running experiments with simulators"
   ]
  },
  {
   "cell_type": "code",
   "execution_count": 34,
   "metadata": {},
   "outputs": [
    {
     "name": "stdout",
     "output_type": "stream",
     "text": [
      "'Case1'\n",
      "{'00': 4981, '11': 5019}\n",
      "''\n",
      "'Case2'\n",
      "{'00': 5005, '11': 4995}\n",
      "''\n"
     ]
    }
   ],
   "source": [
    "jobs = execute([case1, case2] , sim_backend, shots=10000)\n",
    "\n",
    "results = jobs.result()\n",
    "\n",
    "result_case1 = results.get_counts(case1)\n",
    "result_case2 = results.get_counts(case2)\n",
    "\n",
    "\n",
    "pprint(\"Case1\")\n",
    "pprint(result_case1)\n",
    "pprint(\"\")\n",
    "\n",
    "pprint(\"Case2\")\n",
    "pprint(result_case2)\n",
    "pprint(\"\")\n"
   ]
  },
  {
   "cell_type": "code",
   "execution_count": 35,
   "metadata": {},
   "outputs": [
    {
     "data": {
      "image/png": "[encoded data removed]",
      "text/plain": [
       "<Figure size 504x360 with 1 Axes>"
      ]
     },
     "execution_count": 35,
     "metadata": {},
     "output_type": "execute_result"
    }
   ],
   "source": [
    "plot_histogram([result_case1, result_case2], legend=[\"case1\", \"case2\"])"
   ]
  },
  {
   "cell_type": "markdown",
   "metadata": {
    "colab_type": "text",
    "id": "YPHYB4p5n8b8",
    "slideshow": {
     "slide_type": "slide"
    }
   },
   "source": [
    "# Preparing working with real-device backends"
   ]
  },
  {
   "cell_type": "code",
   "execution_count": 36,
   "metadata": {
    "colab": {},
    "colab_type": "code",
    "id": "LpaJgp_Un8b9",
    "slideshow": {
     "slide_type": "fragment"
    }
   },
   "outputs": [
    {
     "data": {
      "text/plain": [
       "[<AccountProvider for IBMQ(hub='ibm-q', group='open', project='main')>,\n",
       " <AccountProvider for IBMQ(hub='ibm-q-internal', group='trl', project='qiskit')>,\n",
       " <AccountProvider for IBMQ(hub='ibm-q-internal', group='deployed', project='default')>]"
      ]
     },
     "execution_count": 36,
     "metadata": {},
     "output_type": "execute_result"
    }
   ],
   "source": [
    "from qiskit import IBMQ\n",
    "\n",
    "IBMQ.load_account() # Load account from disk\n",
    "IBMQ.providers()    # List all available providers"
   ]
  },
  {
   "cell_type": "markdown",
   "metadata": {
    "colab_type": "text",
    "id": "oS2NjnXfn8cb",
    "slideshow": {
     "slide_type": "slide"
    }
   },
   "source": [
    "# The IBMQ Provider: Executing on Quantum Hardware\n",
    "\n",
    "\n",
    "To do this, you'll need to get an IBM Quantum Experience API token from the [IBM Quantum Experience accounts page](https://quantum-computing.ibm.com/)."
   ]
  },
  {
   "cell_type": "code",
   "execution_count": 37,
   "metadata": {
    "colab": {},
    "colab_type": "code",
    "id": "pLEQOhyan8cb",
    "outputId": "33ec6b60-5a4c-4825-efc8-7827ad78aa58",
    "slideshow": {
     "slide_type": "fragment"
    }
   },
   "outputs": [
    {
     "data": {
      "text/plain": [
       "[<IBMQSimulator('ibmq_qasm_simulator') from IBMQ(hub='ibm-q-internal', group='deployed', project='default')>,\n",
       " <IBMQBackend('ibmq_armonk') from IBMQ(hub='ibm-q-internal', group='deployed', project='default')>,\n",
       " <IBMQBackend('ibmq_montreal') from IBMQ(hub='ibm-q-internal', group='deployed', project='default')>,\n",
       " <IBMQBackend('ibmq_toronto') from IBMQ(hub='ibm-q-internal', group='deployed', project='default')>,\n",
       " <IBMQBackend('ibmq_bogota') from IBMQ(hub='ibm-q-internal', group='deployed', project='default')>,\n",
       " <IBMQBackend('ibmq_mumbai') from IBMQ(hub='ibm-q-internal', group='deployed', project='default')>,\n",
       " <IBMQBackend('ibmq_lima') from IBMQ(hub='ibm-q-internal', group='deployed', project='default')>,\n",
       " <IBMQBackend('ibmq_belem') from IBMQ(hub='ibm-q-internal', group='deployed', project='default')>,\n",
       " <IBMQBackend('ibmq_quito') from IBMQ(hub='ibm-q-internal', group='deployed', project='default')>,\n",
       " <IBMQBackend('ibmq_guadalupe') from IBMQ(hub='ibm-q-internal', group='deployed', project='default')>,\n",
       " <IBMQBackend('ibmq_brooklyn') from IBMQ(hub='ibm-q-internal', group='deployed', project='default')>,\n",
       " <IBMQBackend('ibmq_jakarta') from IBMQ(hub='ibm-q-internal', group='deployed', project='default')>,\n",
       " <IBMQBackend('ibmq_manila') from IBMQ(hub='ibm-q-internal', group='deployed', project='default')>,\n",
       " <IBMQBackend('ibm_hanoi') from IBMQ(hub='ibm-q-internal', group='deployed', project='default')>,\n",
       " <IBMQBackend('ibm_lagos') from IBMQ(hub='ibm-q-internal', group='deployed', project='default')>,\n",
       " <IBMQBackend('ibm_cairo') from IBMQ(hub='ibm-q-internal', group='deployed', project='default')>,\n",
       " <IBMQBackend('ibm_auckland') from IBMQ(hub='ibm-q-internal', group='deployed', project='default')>,\n",
       " <IBMQBackend('ibm_perth') from IBMQ(hub='ibm-q-internal', group='deployed', project='default')>,\n",
       " <IBMQBackend('ibm_washington') from IBMQ(hub='ibm-q-internal', group='deployed', project='default')>]"
      ]
     },
     "execution_count": 37,
     "metadata": {},
     "output_type": "execute_result"
    }
   ],
   "source": [
    "# IBMQ.enable_account('<key>')\n",
    "# uncomment this ^^^ and put your API key in\n",
    "provider = IBMQ.get_provider(hub='ibm-q-internal', group=\"deployed\")\n",
    "#provider = IBMQ.get_provider(hub='ibm-q')\n",
    "provider.backends()"
   ]
  },
  {
   "cell_type": "code",
   "execution_count": 39,
   "metadata": {
    "colab": {},
    "colab_type": "code",
    "id": "n9AdNxjUn8cf",
    "slideshow": {
     "slide_type": "fragment"
    }
   },
   "outputs": [],
   "source": [
    "real_backend = provider.get_backend('ibmq_lima')"
   ]
  },
  {
   "cell_type": "code",
   "execution_count": 40,
   "metadata": {
    "slideshow": {
     "slide_type": "fragment"
    }
   },
   "outputs": [
    {
     "name": "stdout",
     "output_type": "stream",
     "text": [
      "'ibmq_lima'\n",
      "'--'\n",
      "<qiskit.providers.models.backendstatus.BackendStatus object at 0x7f04669298e0>\n",
      "'--'\n",
      "<qiskit.providers.models.backendconfiguration.PulseBackendConfiguration object at 0x7f045cc0feb0>\n"
     ]
    }
   ],
   "source": [
    "pprint(real_backend.name())\n",
    "pprint(\"--\")\n",
    "pprint(real_backend.status())\n",
    "pprint(\"--\")\n",
    "pprint(real_backend.configuration())"
   ]
  },
  {
   "cell_type": "markdown",
   "metadata": {
    "colab_type": "text",
    "id": "MytT4sqDn8ch",
    "slideshow": {
     "slide_type": "slide"
    }
   },
   "source": [
    "## Back again to the Bell experiment circuit:"
   ]
  },
  {
   "cell_type": "code",
   "execution_count": 41,
   "metadata": {
    "colab": {},
    "colab_type": "code",
    "id": "XAT77wsJn8ci",
    "outputId": "21547668-3225-4573-b24e-28aa7b214977",
    "slideshow": {
     "slide_type": "fragment"
    }
   },
   "outputs": [
    {
     "data": {
      "image/png": "[encoded data removed]",
      "text/plain": [
       "<Figure size 410.09x204.68 with 1 Axes>"
      ]
     },
     "execution_count": 41,
     "metadata": {},
     "output_type": "execute_result"
    }
   ],
   "source": [
    "case1.draw(output=\"mpl\")"
   ]
  },
  {
   "cell_type": "code",
   "execution_count": 42,
   "metadata": {
    "colab": {},
    "colab_type": "code",
    "id": "DNMZRaBBn8cl",
    "slideshow": {
     "slide_type": "slide"
    }
   },
   "outputs": [],
   "source": [
    "import qiskit.tools.jupyter  # importing tools for watching job from jupyter\n",
    "\n",
    "shots = 1000        # Number of shots to run the program (experiment); maximum is 8192 shots.\n",
    "job_exp = execute(case1, real_backend, shots = shots)"
   ]
  },
  {
   "cell_type": "code",
   "execution_count": 46,
   "metadata": {
    "colab": {},
    "colab_type": "code",
    "id": "k4S8Vr5Tn8cq",
    "outputId": "e027d48d-6c8f-4d86-e5e1-c62d3ec8a228",
    "slideshow": {
     "slide_type": "fragment"
    }
   },
   "outputs": [
    {
     "data": {
      "text/plain": [
       "<JobStatus.QUEUED: 'job is queued'>"
      ]
     },
     "execution_count": 46,
     "metadata": {},
     "output_type": "execute_result"
    }
   ],
   "source": [
    "# Check the job status\n",
    "job_exp.status()"
   ]
  },
  {
   "cell_type": "code",
   "execution_count": 48,
   "metadata": {
    "slideshow": {
     "slide_type": "fragment"
    }
   },
   "outputs": [],
   "source": [
    "#%qiskit_job_watcher\n",
    "%qiskit_disable_job_watcher"
   ]
  },
  {
   "cell_type": "markdown",
   "metadata": {
    "colab_type": "text",
    "id": "3iV6VFqKn8ct",
    "slideshow": {
     "slide_type": "fragment"
    }
   },
   "source": [
    "FYI, you can also retrieve an old job by its job_id."
   ]
  },
  {
   "cell_type": "code",
   "execution_count": 49,
   "metadata": {
    "colab": {},
    "colab_type": "code",
    "id": "N1gnsiDjn8cv",
    "slideshow": {
     "slide_type": "fragment"
    }
   },
   "outputs": [
    {
     "name": "stdout",
     "output_type": "stream",
     "text": [
      "JOB ID: 6261055f6354d63becaa4c99\n"
     ]
    },
    {
     "data": {
      "text/plain": [
       "{'00': 453, '01': 19, '10': 20, '11': 508}"
      ]
     },
     "execution_count": 49,
     "metadata": {},
     "output_type": "execute_result"
    }
   ],
   "source": [
    "jobID = job_exp.job_id()\n",
    "\n",
    "print('JOB ID: {}'.format(jobID))\n",
    "\n",
    "job_get=real_backend.retrieve_job(jobID)\n",
    "job_get.result().get_counts(case1)"
   ]
  },
  {
   "cell_type": "code",
   "execution_count": 50,
   "metadata": {
    "colab": {},
    "colab_type": "code",
    "id": "4hTnzJ6tn8cw",
    "outputId": "415bb3b1-adcd-45ad-cfac-a6887c876a22",
    "slideshow": {
     "slide_type": "fragment"
    }
   },
   "outputs": [
    {
     "data": {
      "image/png": "[encoded data removed]",
      "text/plain": [
       "<Figure size 504x360 with 1 Axes>"
      ]
     },
     "execution_count": 50,
     "metadata": {},
     "output_type": "execute_result"
    }
   ],
   "source": [
    "counts = job_get.result().get_counts(case1)\n",
    "plot_histogram(counts)"
   ]
  },
  {
   "cell_type": "markdown",
   "metadata": {
    "colab_type": "text",
    "id": "lrWm4VTwn8c5",
    "slideshow": {
     "slide_type": "slide"
    }
   },
   "source": [
    "# Learning resources\n",
    "\n",
    "The [qiskit textbook](https://qiskit.org/textbook/preface.html) contains ready-to-run tutorials ranging from basics concepts of quantum computing to basic quantum algorithms.\n",
    "\n",
    "* For learning functions of Qiskit, see: [qiskit-tutorials/](https://github.com/Qiskit/qiskit-tutorials) directory\n"
   ]
  },
  {
   "cell_type": "code",
   "execution_count": 51,
   "metadata": {
    "slideshow": {
     "slide_type": "slide"
    }
   },
   "outputs": [
    {
     "data": {
      "text/html": [
       "<h3>Version Information</h3><table><tr><th>Qiskit Software</th><th>Version</th></tr><tr><td><code>qiskit-terra</code></td><td>0.20.0</td></tr><tr><td><code>qiskit-aer</code></td><td>0.10.3</td></tr><tr><td><code>qiskit-ignis</code></td><td>0.7.0</td></tr><tr><td><code>qiskit-ibmq-provider</code></td><td>0.18.3</td></tr><tr><td><code>qiskit</code></td><td>0.35.0</td></tr><tr><td><code>qiskit-nature</code></td><td>0.3.2</td></tr><tr><td><code>qiskit-finance</code></td><td>0.3.1</td></tr><tr><td><code>qiskit-optimization</code></td><td>0.3.2</td></tr><tr><td><code>qiskit-machine-learning</code></td><td>0.3.1</td></tr><tr><th>System information</th></tr><tr><td>Python version</td><td>3.8.13</td></tr><tr><td>Python compiler</td><td>GCC 10.3.0</td></tr><tr><td>Python build</td><td>default, Mar 25 2022 06:04:10</td></tr><tr><td>OS</td><td>Linux</td></tr><tr><td>CPUs</td><td>8</td></tr><tr><td>Memory (Gb)</td><td>31.211315155029297</td></tr><tr><td colspan='2'>Thu Apr 21 07:23:03 2022 UTC</td></tr></table>"
      ],
      "text/plain": [
       "<IPython.core.display.HTML object>"
      ]
     },
     "metadata": {},
     "output_type": "display_data"
    }
   ],
   "source": [
    "import qiskit.tools.jupyter\n",
    "%qiskit_version_table"
   ]
  },
  {
   "cell_type": "code",
   "execution_count": null,
   "metadata": {},
   "outputs": [],
   "source": []
  }
 ],
 "metadata": {
  "celltoolbar": "Slideshow",
  "colab": {
   "collapsed_sections": [],
   "name": "Qiskit_Bootcamp_Terra.ipynb",
   "provenance": [],
   "version": "0.3.2"
  },
  "kernelspec": {
   "display_name": "Python 3",
   "language": "python",
   "name": "python3"
  },
  "language_info": {
   "codemirror_mode": {
    "name": "ipython",
    "version": 3
   },
   "file_extension": ".py",
   "mimetype": "text/x-python",
   "name": "python",
   "nbconvert_exporter": "python",
   "pygments_lexer": "ipython3",
   "version": "3.8.13"
  },
  "widgets": {
   "application/vnd.jupyter.widget-state+json": {
    "state": {
     "04afb3836a5d4335ac5e797615ac1528": {
      "model_module": "@jupyter-widgets/base",
      "model_module_version": "1.2.0",
      "model_name": "LayoutModel",
      "state": {
       "overflow_x": "scroll"
      }
     },
     "0ee096369fd049ed96fbbf75b23181a8": {
      "model_module": "@jupyter-widgets/controls",
      "model_module_version": "1.5.0",
      "model_name": "DescriptionStyleModel",
      "state": {
       "description_width": ""
      }
     },
     "12b7a1280834450096d7ea88879fd38d": {
      "model_module": "@jupyter-widgets/base",
      "model_module_version": "1.2.0",
      "model_name": "LayoutModel",
      "state": {
       "max_width": "710px",
       "min_width": "710px"
      }
     },
     "154325be694148b8853e0a4d77add1ee": {
      "model_module": "@jupyter-widgets/controls",
      "model_module_version": "1.5.0",
      "model_name": "VBoxModel",
      "state": {
       "children": [
        "IPY_MODEL_753c23bf21ec4ca689dff7c8fffa9285",
        "IPY_MODEL_3428c17f0c7a49bd95782aeee1782376",
        "IPY_MODEL_c730c8f4cd39487b93bba56f3c3a6ff4"
       ],
       "layout": "IPY_MODEL_12b7a1280834450096d7ea88879fd38d"
      }
     },
     "1616f23da5664a4e8852fa2d00a2fc1f": {
      "model_module": "@jupyter-widgets/controls",
      "model_module_version": "1.5.0",
      "model_name": "HTMLModel",
      "state": {
       "layout": "IPY_MODEL_eeec6277d4ee498588cfe62f17763753",
       "style": "IPY_MODEL_5f7568a51d9b4a8f8411392df0902601",
       "value": "<h5>Backend</h5>"
      }
     },
     "1b9c96935a834ef7b2757ae294349196": {
      "model_module": "@jupyter-widgets/controls",
      "model_module_version": "1.5.0",
      "model_name": "ButtonStyleModel",
      "state": {
       "button_color": "white"
      }
     },
     "1dec09862f8b47a7b6e1e75f18881542": {
      "model_module": "@jupyter-widgets/base",
      "model_module_version": "1.2.0",
      "model_name": "LayoutModel",
      "state": {
       "grid_template_areas": "\n                                       \". . . . right \"\n                                        ",
       "grid_template_columns": "20% 20% 20% 20% 20%",
       "width": "100%"
      }
     },
     "1f4c16b73c26439db69e2c6da2c8ec25": {
      "model_module": "@jupyter-widgets/base",
      "model_module_version": "1.2.0",
      "model_name": "LayoutModel",
      "state": {
       "max_height": "500px",
       "max_width": "750px",
       "overflow_x": "hidden",
       "overflow_y": "scroll",
       "visibility": "visible",
       "width": "auto"
      }
     },
     "2118877ed4be4e3b9197cd52f5fe1433": {
      "model_module": "@jupyter-widgets/controls",
      "model_module_version": "1.5.0",
      "model_name": "HTMLModel",
      "state": {
       "layout": "IPY_MODEL_f7f8491792e94041bc1408e65d70a8fa",
       "style": "IPY_MODEL_be21075bafcc402ba06fe4bd243bff7f",
       "value": "-"
      }
     },
     "335df0cf552b435c95206eefcac751d3": {
      "model_module": "@jupyter-widgets/controls",
      "model_module_version": "1.5.0",
      "model_name": "HTMLModel",
      "state": {
       "layout": "IPY_MODEL_5d55258e5fd24c77893169e8f393a593",
       "style": "IPY_MODEL_41f5131fe07847da82f5876fcfe180db",
       "value": "<font style='color:#34BC6E'>DONE</font>"
      }
     },
     "3428c17f0c7a49bd95782aeee1782376": {
      "model_module": "@jupyter-widgets/controls",
      "model_module_version": "1.5.0",
      "model_name": "HBoxModel",
      "state": {
       "children": [
        "IPY_MODEL_a0406c4a3fbd4b4cb5ef47da1f90cff9",
        "IPY_MODEL_1616f23da5664a4e8852fa2d00a2fc1f",
        "IPY_MODEL_93b95a8f8dc140329537f5115b1632bb",
        "IPY_MODEL_5314c5dfbe8c42c0a5bf4ea510618ea8",
        "IPY_MODEL_e24995512f5a4c4caad622061e814d4b"
       ],
       "layout": "IPY_MODEL_7cf10074dea84ea28f6877f0e59094c0"
      }
     },
     "35f5a956b1f048be90f76b924aef4bbd": {
      "model_module": "@jupyter-widgets/base",
      "model_module_version": "1.2.0",
      "model_name": "LayoutModel",
      "state": {
       "width": "95px"
      }
     },
     "408eee85e0cc4919b71eda3658d66679": {
      "model_module": "@jupyter-widgets/base",
      "model_module_version": "1.2.0",
      "model_name": "LayoutModel",
      "state": {
       "max_width": "710px",
       "min_width": "710px"
      }
     },
     "41f5131fe07847da82f5876fcfe180db": {
      "model_module": "@jupyter-widgets/controls",
      "model_module_version": "1.5.0",
      "model_name": "DescriptionStyleModel",
      "state": {
       "description_width": ""
      }
     },
     "42242ab18695447f9f4d019ee4f95f55": {
      "model_module": "@jupyter-widgets/controls",
      "model_module_version": "1.5.0",
      "model_name": "ButtonModel",
      "state": {
       "icon": "close",
       "layout": "IPY_MODEL_70038cb2c03946c6a91f3c281db7e2ce",
       "style": "IPY_MODEL_1b9c96935a834ef7b2757ae294349196"
      }
     },
     "5314c5dfbe8c42c0a5bf4ea510618ea8": {
      "model_module": "@jupyter-widgets/controls",
      "model_module_version": "1.5.0",
      "model_name": "HTMLModel",
      "state": {
       "layout": "IPY_MODEL_a91de052222a4379a26c22f79536be25",
       "style": "IPY_MODEL_c98e3a14204f4eba87395f6acb914ce9",
       "value": "<h5>Queue</h5>"
      }
     },
     "5540a3ec2fbc4f4b887c6af161270fa5": {
      "model_module": "@jupyter-widgets/controls",
      "model_module_version": "1.5.0",
      "model_name": "DescriptionStyleModel",
      "state": {
       "description_width": ""
      }
     },
     "5d55258e5fd24c77893169e8f393a593": {
      "model_module": "@jupyter-widgets/base",
      "model_module_version": "1.2.0",
      "model_name": "LayoutModel",
      "state": {
       "width": "95px"
      }
     },
     "5e4f72a96479408dae6d43dece689305": {
      "model_module": "@jupyter-widgets/base",
      "model_module_version": "1.2.0",
      "model_name": "LayoutModel",
      "state": {
       "width": "145px"
      }
     },
     "5f7568a51d9b4a8f8411392df0902601": {
      "model_module": "@jupyter-widgets/controls",
      "model_module_version": "1.5.0",
      "model_name": "DescriptionStyleModel",
      "state": {
       "description_width": ""
      }
     },
     "5fcc80a82d274cf9b353bf6adb774ea3": {
      "model_module": "@jupyter-widgets/base",
      "model_module_version": "1.2.0",
      "model_name": "LayoutModel",
      "state": {
       "grid_area": "right",
       "padding": "0px 0px 0px 0px",
       "width": "70px"
      }
     },
     "6d83b96c877a4ec29e2c7098cedec698": {
      "model_module": "@jupyter-widgets/controls",
      "model_module_version": "1.5.0",
      "model_name": "DescriptionStyleModel",
      "state": {
       "description_width": ""
      }
     },
     "6e415bb745bf49c6aa7a23d081f83df6": {
      "model_module": "@jupyter-widgets/base",
      "model_module_version": "1.2.0",
      "model_name": "LayoutModel",
      "state": {}
     },
     "6f008aad039e4ef2935c29aefe5a15a7": {
      "model_module": "@jupyter-widgets/base",
      "model_module_version": "1.2.0",
      "model_name": "LayoutModel",
      "state": {
       "margin": "0px 0px 10px 0px"
      }
     },
     "70038cb2c03946c6a91f3c281db7e2ce": {
      "model_module": "@jupyter-widgets/base",
      "model_module_version": "1.2.0",
      "model_name": "LayoutModel",
      "state": {
       "margin": "0px 5px 0px 0px",
       "width": "32px"
      }
     },
     "753c23bf21ec4ca689dff7c8fffa9285": {
      "model_module": "@jupyter-widgets/controls",
      "model_module_version": "1.5.0",
      "model_name": "GridBoxModel",
      "state": {
       "children": [
        "IPY_MODEL_bf8aa3a42e8c4dfa9bc83b79cbe38196"
       ],
       "layout": "IPY_MODEL_1dec09862f8b47a7b6e1e75f18881542"
      }
     },
     "7a3688669cdd42dba333ea42223c291d": {
      "model_module": "@jupyter-widgets/controls",
      "model_module_version": "1.5.0",
      "model_name": "HTMLModel",
      "state": {
       "layout": "IPY_MODEL_04afb3836a5d4335ac5e797615ac1528",
       "style": "IPY_MODEL_8765885782ee4483857c5d55db58a3c8",
       "value": "job has successfully run"
      }
     },
     "7cf10074dea84ea28f6877f0e59094c0": {
      "model_module": "@jupyter-widgets/base",
      "model_module_version": "1.2.0",
      "model_name": "LayoutModel",
      "state": {
       "margin": "0px 0px 0px 37px",
       "width": "600px"
      }
     },
     "80a2ff6f4ed846939b687864f762de65": {
      "model_module": "@jupyter-widgets/controls",
      "model_module_version": "1.5.0",
      "model_name": "DescriptionStyleModel",
      "state": {
       "description_width": ""
      }
     },
     "81572ce961a246c38a2fae6e515062f4": {
      "model_module": "@jupyter-widgets/base",
      "model_module_version": "1.2.0",
      "model_name": "LayoutModel",
      "state": {
       "width": "190px"
      }
     },
     "81aa04d2d77c4bcb89b0048537e138c2": {
      "model_module": "@jupyter-widgets/controls",
      "model_module_version": "1.5.0",
      "model_name": "HTMLModel",
      "state": {
       "layout": "IPY_MODEL_f43ee3984e61413a93abfe294b4eb75d",
       "style": "IPY_MODEL_6d83b96c877a4ec29e2c7098cedec698",
       "value": "6261055f6354d63becaa4c99"
      }
     },
     "8765885782ee4483857c5d55db58a3c8": {
      "model_module": "@jupyter-widgets/controls",
      "model_module_version": "1.5.0",
      "model_name": "DescriptionStyleModel",
      "state": {
       "description_width": ""
      }
     },
     "8d44ac5e785d4a3898de54243d537cef": {
      "model_module": "@jupyter-widgets/controls",
      "model_module_version": "1.5.0",
      "model_name": "HTMLModel",
      "state": {
       "layout": "IPY_MODEL_5e4f72a96479408dae6d43dece689305",
       "style": "IPY_MODEL_80a2ff6f4ed846939b687864f762de65",
       "value": "ibmq_lima"
      }
     },
     "93381d901379470d886e1700735b8b11": {
      "model_module": "@jupyter-widgets/controls",
      "model_module_version": "1.5.0",
      "model_name": "VBoxModel",
      "state": {
       "children": [
        "IPY_MODEL_753c23bf21ec4ca689dff7c8fffa9285",
        "IPY_MODEL_3428c17f0c7a49bd95782aeee1782376",
        "IPY_MODEL_c730c8f4cd39487b93bba56f3c3a6ff4"
       ],
       "layout": "IPY_MODEL_408eee85e0cc4919b71eda3658d66679"
      }
     },
     "93b95a8f8dc140329537f5115b1632bb": {
      "model_module": "@jupyter-widgets/controls",
      "model_module_version": "1.5.0",
      "model_name": "HTMLModel",
      "state": {
       "layout": "IPY_MODEL_35f5a956b1f048be90f76b924aef4bbd",
       "style": "IPY_MODEL_5540a3ec2fbc4f4b887c6af161270fa5",
       "value": "<h5>Status</h5>"
      }
     },
     "9b35e472b89f4599aff2548dc9747066": {
      "model_module": "@jupyter-widgets/controls",
      "model_module_version": "1.5.0",
      "model_name": "DescriptionStyleModel",
      "state": {
       "description_width": ""
      }
     },
     "a0406c4a3fbd4b4cb5ef47da1f90cff9": {
      "model_module": "@jupyter-widgets/controls",
      "model_module_version": "1.5.0",
      "model_name": "HTMLModel",
      "state": {
       "layout": "IPY_MODEL_81572ce961a246c38a2fae6e515062f4",
       "style": "IPY_MODEL_0ee096369fd049ed96fbbf75b23181a8",
       "value": "<h5>Job ID</h5>"
      }
     },
     "a91de052222a4379a26c22f79536be25": {
      "model_module": "@jupyter-widgets/base",
      "model_module_version": "1.2.0",
      "model_name": "LayoutModel",
      "state": {
       "width": "70px"
      }
     },
     "b4d59f4e6825467186fb0a36fc13ef97": {
      "model_module": "@jupyter-widgets/base",
      "model_module_version": "1.2.0",
      "model_name": "LayoutModel",
      "state": {
       "max_height": "500px",
       "max_width": "750px",
       "overflow_x": "hidden",
       "overflow_y": "scroll",
       "visibility": "visible",
       "width": "auto"
      }
     },
     "be21075bafcc402ba06fe4bd243bff7f": {
      "model_module": "@jupyter-widgets/controls",
      "model_module_version": "1.5.0",
      "model_name": "DescriptionStyleModel",
      "state": {
       "description_width": ""
      }
     },
     "bf8aa3a42e8c4dfa9bc83b79cbe38196": {
      "model_module": "@jupyter-widgets/controls",
      "model_module_version": "1.5.0",
      "model_name": "ButtonModel",
      "state": {
       "button_style": "primary",
       "description": "Clear",
       "layout": "IPY_MODEL_5fcc80a82d274cf9b353bf6adb774ea3",
       "style": "IPY_MODEL_e7455fedba894b3b874de8e579352b87"
      }
     },
     "c730c8f4cd39487b93bba56f3c3a6ff4": {
      "model_module": "@jupyter-widgets/controls",
      "model_module_version": "1.5.0",
      "model_name": "HBoxModel",
      "state": {
       "children": [
        "IPY_MODEL_42242ab18695447f9f4d019ee4f95f55",
        "IPY_MODEL_81aa04d2d77c4bcb89b0048537e138c2",
        "IPY_MODEL_8d44ac5e785d4a3898de54243d537cef",
        "IPY_MODEL_335df0cf552b435c95206eefcac751d3",
        "IPY_MODEL_2118877ed4be4e3b9197cd52f5fe1433",
        "IPY_MODEL_7a3688669cdd42dba333ea42223c291d"
       ],
       "layout": "IPY_MODEL_ce21289c36ce4ef0ba01a4b2c43ed70a"
      }
     },
     "c98e3a14204f4eba87395f6acb914ce9": {
      "model_module": "@jupyter-widgets/controls",
      "model_module_version": "1.5.0",
      "model_name": "DescriptionStyleModel",
      "state": {
       "description_width": ""
      }
     },
     "cdaf20b1a3004edf8b1f902cf3f3fb8f": {
      "model_module": "@jupyter-widgets/controls",
      "model_module_version": "1.5.0",
      "model_name": "HTMLModel",
      "state": {
       "layout": "IPY_MODEL_6f008aad039e4ef2935c29aefe5a15a7",
       "style": "IPY_MODEL_9b35e472b89f4599aff2548dc9747066",
       "value": "<p style='font-family: IBM Plex Sans, Arial, Helvetica, sans-serif; font-size: 20px; font-weight: medium;'>Circuit Properties</p>"
      }
     },
     "ce21289c36ce4ef0ba01a4b2c43ed70a": {
      "model_module": "@jupyter-widgets/base",
      "model_module_version": "1.2.0",
      "model_name": "LayoutModel",
      "state": {
       "max_width": "700px",
       "min_width": "700px"
      }
     },
     "e24995512f5a4c4caad622061e814d4b": {
      "model_module": "@jupyter-widgets/controls",
      "model_module_version": "1.5.0",
      "model_name": "HTMLModel",
      "state": {
       "layout": "IPY_MODEL_6e415bb745bf49c6aa7a23d081f83df6",
       "style": "IPY_MODEL_f0f4c9a7c9c247f8a74c5465bb78b769",
       "value": "<h5>Message</h5>"
      }
     },
     "e7455fedba894b3b874de8e579352b87": {
      "model_module": "@jupyter-widgets/controls",
      "model_module_version": "1.5.0",
      "model_name": "ButtonStyleModel",
      "state": {}
     },
     "eeec6277d4ee498588cfe62f17763753": {
      "model_module": "@jupyter-widgets/base",
      "model_module_version": "1.2.0",
      "model_name": "LayoutModel",
      "state": {
       "width": "145px"
      }
     },
     "f0f4c9a7c9c247f8a74c5465bb78b769": {
      "model_module": "@jupyter-widgets/controls",
      "model_module_version": "1.5.0",
      "model_name": "DescriptionStyleModel",
      "state": {
       "description_width": ""
      }
     },
     "f43ee3984e61413a93abfe294b4eb75d": {
      "model_module": "@jupyter-widgets/base",
      "model_module_version": "1.2.0",
      "model_name": "LayoutModel",
      "state": {
       "width": "190px"
      }
     },
     "f7f8491792e94041bc1408e65d70a8fa": {
      "model_module": "@jupyter-widgets/base",
      "model_module_version": "1.2.0",
      "model_name": "LayoutModel",
      "state": {
       "width": "70px"
      }
     }
    },
    "version_major": 2,
    "version_minor": 0
   }
  }
 },
 "nbformat": 4,
 "nbformat_minor": 4
}
