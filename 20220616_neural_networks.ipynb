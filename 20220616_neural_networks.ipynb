{
 "cells": [
  {
   "cell_type": "markdown",
   "id": "brilliant-cross",
   "metadata": {},
   "source": [
    "# Quantum Neural Networks\n",
    "\n",
    "Based on [qiskit-tutorials](https://github.com/Qiskit/qiskit-tutorials) with minor modification by Rudy Raymond (rudyhar@jp.ibm.com).\n",
    "Shared at the 36th JSAI on June 17, 2022 in Kyoto. \n",
    "\n",
    "---\n",
    "This notebook demonstrates the different generic quantum neural network (QNN) implementations provided in Qiskit Machine Learning.\n",
    "The networks are meant as application-agnostic computational units that can be used for many different use cases. \n",
    "Depending on the application, a particular type of network might more or less suitable and might require to be set up in a particular way.\n",
    "The following different available neural networks will now be discussed in more detail:\n",
    "\n",
    "1. `NeuralNetwork`: The interface for neural networks.\n",
    "2. `OpflowQNN`: A network based on the evaluation of quantum mechanical observables.\n",
    "3. `TwoLayerQNN`: A special `OpflowQNN` implementation for convenience. \n",
    "3. `CircuitQNN`: A network based on the samples resulting from measuring a quantum circuit."
   ]
  },
  {
   "cell_type": "code",
   "execution_count": 1,
   "id": "annual-engine",
   "metadata": {},
   "outputs": [],
   "source": [
    "import numpy as np\n",
    "\n",
    "from qiskit import Aer, QuantumCircuit\n",
    "from qiskit.circuit import Parameter\n",
    "from qiskit.circuit.library import RealAmplitudes, ZZFeatureMap\n",
    "from qiskit.opflow import StateFn, PauliSumOp, AerPauliExpectation, ListOp, Gradient\n",
    "from qiskit.utils import QuantumInstance, algorithm_globals\n",
    "\n",
    "algorithm_globals.random_seed = 42"
   ]
  },
  {
   "cell_type": "code",
   "execution_count": 2,
   "id": "single-likelihood",
   "metadata": {},
   "outputs": [
    {
     "name": "stderr",
     "output_type": "stream",
     "text": [
      "<frozen importlib._bootstrap>:219: RuntimeWarning: scipy._lib.messagestream.MessageStream size changed, may indicate binary incompatibility. Expected 56 from C header, got 64 from PyObject\n"
     ]
    }
   ],
   "source": [
    "# set method to calculcate expected values\n",
    "expval = AerPauliExpectation()\n",
    "\n",
    "# define gradient method\n",
    "gradient = Gradient()\n",
    "\n",
    "# define quantum instances (statevector and sample based)\n",
    "qi_sv = QuantumInstance(Aer.get_backend(\"aer_simulator_statevector\"))\n",
    "\n",
    "# we set shots to 10 as this will determine the number of samples later on.\n",
    "qi_qasm = QuantumInstance(Aer.get_backend(\"aer_simulator\"), shots=10)"
   ]
  },
  {
   "cell_type": "markdown",
   "id": "roman-lindsay",
   "metadata": {},
   "source": [
    "## 1. `NeuralNetwork`\n",
    "\n",
    "The `NeuralNetwork` represents the interface for all neural networks available in Qiskit Machine Learning.\n",
    "It exposes a forward and a backward pass taking the data samples and trainable weights as input.\n",
    "A `NeuralNetwork` does not contain any training capabilities, these are pushed to the actual algorithms / applications. Thus, a `NeuralNetwork` also does not store the values for trainable weights. In the following, different implementations of this interfaces are introduced.\n",
    "\n",
    "Suppose a `NeuralNetwork` called `nn`.\n",
    "Then, the `nn.forward(input, weights)` pass takes either flat inputs for the data and weights of size `nn.num_inputs` and `nn.num_weights`, respectively.\n",
    "`NeuralNetwork` supports batching of inputs and returns batches of output of the corresponding shape."
   ]
  },
  {
   "cell_type": "markdown",
   "id": "billion-uniform",
   "metadata": {},
   "source": [
    "## 2. `OpflowQNN`\n",
    "\n",
    "The `OpflowQNN` takes a (parametrized) operator from Qiskit and leverages Qiskit's gradient framework to provide the backward pass. \n",
    "Such an operator can for instance be an expected value of a quantum mechanical observable with respect to a parametrized quantum state. The Parameters can be used to load classical data as well as represent trainable weights.\n",
    "The `OpflowQNN` also allows lists of operators and more complex structures to construct more complex QNNs."
   ]
  },
  {
   "cell_type": "code",
   "execution_count": 3,
   "id": "separate-presence",
   "metadata": {},
   "outputs": [],
   "source": [
    "from qiskit_machine_learning.neural_networks import OpflowQNN"
   ]
  },
  {
   "cell_type": "code",
   "execution_count": 4,
   "id": "popular-artwork",
   "metadata": {},
   "outputs": [
    {
     "name": "stdout",
     "output_type": "stream",
     "text": [
      "ComposedOp([\n",
      "  OperatorMeasurement(1.0 * Z\n",
      "  + 1.0 * X),\n",
      "  CircuitStateFn(\n",
      "     ┌───┐┌────────────┐┌─────────────┐\n",
      "  q: ┤ H ├┤ Ry(input1) ├┤ Rx(weight1) ├\n",
      "     └───┘└────────────┘└─────────────┘\n",
      "  )\n",
      "])\n"
     ]
    }
   ],
   "source": [
    "# construct parametrized circuit\n",
    "params1 = [Parameter(\"input1\"), Parameter(\"weight1\")]\n",
    "qc1 = QuantumCircuit(1)\n",
    "qc1.h(0)\n",
    "qc1.ry(params1[0], 0)\n",
    "qc1.rx(params1[1], 0)\n",
    "qc_sfn1 = StateFn(qc1)\n",
    "\n",
    "# construct cost operator\n",
    "H1 = StateFn(PauliSumOp.from_list([(\"Z\", 1.0), (\"X\", 1.0)]))\n",
    "\n",
    "# combine operator and circuit to objective function\n",
    "op1 = ~H1 @ qc_sfn1\n",
    "print(op1)"
   ]
  },
  {
   "cell_type": "code",
   "execution_count": 5,
   "id": "italian-clear",
   "metadata": {},
   "outputs": [],
   "source": [
    "# construct OpflowQNN with the operator, the input parameters, the weight parameters,\n",
    "# the expected value, gradient, and quantum instance.\n",
    "qnn1 = OpflowQNN(op1, [params1[0]], [params1[1]], expval, gradient, qi_sv)"
   ]
  },
  {
   "cell_type": "code",
   "execution_count": 6,
   "id": "forty-routine",
   "metadata": {},
   "outputs": [],
   "source": [
    "# define (random) input and weights\n",
    "input1 = algorithm_globals.random.random(qnn1.num_inputs)\n",
    "weights1 = algorithm_globals.random.random(qnn1.num_weights)"
   ]
  },
  {
   "cell_type": "code",
   "execution_count": 7,
   "id": "recovered-marriage",
   "metadata": {},
   "outputs": [
    {
     "data": {
      "text/plain": [
       "array([[0.08242345]])"
      ]
     },
     "execution_count": 7,
     "metadata": {},
     "output_type": "execute_result"
    }
   ],
   "source": [
    "# QNN forward pass\n",
    "qnn1.forward(input1, weights1)"
   ]
  },
  {
   "cell_type": "code",
   "execution_count": 8,
   "id": "approved-compound",
   "metadata": {},
   "outputs": [
    {
     "data": {
      "text/plain": [
       "array([[0.08242345],\n",
       "       [0.08242345]])"
      ]
     },
     "execution_count": 8,
     "metadata": {},
     "output_type": "execute_result"
    }
   ],
   "source": [
    "# QNN batched forward pass\n",
    "qnn1.forward([input1, input1], weights1)"
   ]
  },
  {
   "cell_type": "code",
   "execution_count": 9,
   "id": "considerable-embassy",
   "metadata": {},
   "outputs": [
    {
     "data": {
      "text/plain": [
       "(None, array([[[0.2970094]]]))"
      ]
     },
     "execution_count": 9,
     "metadata": {},
     "output_type": "execute_result"
    }
   ],
   "source": [
    "# QNN backward pass\n",
    "qnn1.backward(input1, weights1)"
   ]
  },
  {
   "cell_type": "code",
   "execution_count": 10,
   "id": "moved-matrix",
   "metadata": {},
   "outputs": [
    {
     "data": {
      "text/plain": [
       "(None,\n",
       " array([[[0.2970094]],\n",
       " \n",
       "        [[0.2970094]]]))"
      ]
     },
     "execution_count": 10,
     "metadata": {},
     "output_type": "execute_result"
    }
   ],
   "source": [
    "# QNN batched backward pass\n",
    "qnn1.backward([input1, input1], weights1)"
   ]
  },
  {
   "cell_type": "markdown",
   "id": "completed-dressing",
   "metadata": {},
   "source": [
    "Combining multiple observables in a `ListOp` also allows to create more complex QNNs"
   ]
  },
  {
   "cell_type": "code",
   "execution_count": 11,
   "id": "academic-roads",
   "metadata": {},
   "outputs": [],
   "source": [
    "op2 = ListOp([op1, op1])\n",
    "qnn2 = OpflowQNN(op2, [params1[0]], [params1[1]], expval, gradient, qi_sv)"
   ]
  },
  {
   "cell_type": "code",
   "execution_count": 12,
   "id": "important-density",
   "metadata": {},
   "outputs": [
    {
     "data": {
      "text/plain": [
       "array([[0.08242345, 0.08242345]])"
      ]
     },
     "execution_count": 12,
     "metadata": {},
     "output_type": "execute_result"
    }
   ],
   "source": [
    "# QNN forward pass\n",
    "qnn2.forward(input1, weights1)"
   ]
  },
  {
   "cell_type": "code",
   "execution_count": 13,
   "id": "informal-biology",
   "metadata": {},
   "outputs": [
    {
     "data": {
      "text/plain": [
       "(None,\n",
       " array([[[0.2970094],\n",
       "         [0.2970094]]]))"
      ]
     },
     "execution_count": 13,
     "metadata": {},
     "output_type": "execute_result"
    }
   ],
   "source": [
    "# QNN backward pass\n",
    "qnn2.backward(input1, weights1)"
   ]
  },
  {
   "cell_type": "markdown",
   "id": "bound-hypothesis",
   "metadata": {},
   "source": [
    "## 3. `TwoLayerQNN`\n",
    "\n",
    "The `TwoLayerQNN` is a special `OpflowQNN` on $n$ qubits that consists of first a feature map to insert data and second an ansatz that is trained. The default observable is $Z^{\\otimes n}$, i.e., parity."
   ]
  },
  {
   "cell_type": "code",
   "execution_count": 14,
   "id": "ready-accounting",
   "metadata": {},
   "outputs": [],
   "source": [
    "from qiskit_machine_learning.neural_networks import TwoLayerQNN"
   ]
  },
  {
   "cell_type": "code",
   "execution_count": 15,
   "id": "twelve-south",
   "metadata": {},
   "outputs": [],
   "source": [
    "# specify the number of qubits\n",
    "num_qubits = 3"
   ]
  },
  {
   "cell_type": "code",
   "execution_count": 17,
   "id": "41b64e90-6d52-452a-a303-761a6e08a42a",
   "metadata": {},
   "outputs": [
    {
     "data": {
      "image/png": "[encoded data removed]",
      "text/plain": [
       "<Figure size 267.197x204.68 with 1 Axes>"
      ]
     },
     "execution_count": 17,
     "metadata": {},
     "output_type": "execute_result"
    }
   ],
   "source": [
    "# specify the feature map\n",
    "fm = ZZFeatureMap(num_qubits, reps=2)\n",
    "fm.draw(output=\"mpl\")"
   ]
  },
  {
   "cell_type": "code",
   "execution_count": 19,
   "id": "69536411-9b36-4633-9b55-9e6c4f24120a",
   "metadata": {},
   "outputs": [
    {
     "data": {
      "image/png": "[encoded data removed]",
      "text/plain": [
       "<Figure size 1591.6x445.48 with 1 Axes>"
      ]
     },
     "execution_count": 19,
     "metadata": {},
     "output_type": "execute_result"
    }
   ],
   "source": [
    "fm.decompose().draw(output=\"mpl\")"
   ]
  },
  {
   "cell_type": "code",
   "execution_count": 20,
   "id": "b022d506-e7ee-4461-a00f-a9d9c1be444a",
   "metadata": {},
   "outputs": [
    {
     "data": {
      "image/png": "[encoded data removed]",
      "text/plain": [
       "<Figure size 267.197x204.68 with 1 Axes>"
      ]
     },
     "execution_count": 20,
     "metadata": {},
     "output_type": "execute_result"
    }
   ],
   "source": [
    "# specify the ansatz\n",
    "ansatz = RealAmplitudes(num_qubits, reps=1)\n",
    "ansatz.draw(output=\"mpl\")"
   ]
  },
  {
   "cell_type": "code",
   "execution_count": 21,
   "id": "48c605af-0c7c-4119-9447-449b76de6503",
   "metadata": {},
   "outputs": [
    {
     "data": {
      "image/png": "[encoded data removed]",
      "text/plain": [
       "<Figure size 387.597x204.68 with 1 Axes>"
      ]
     },
     "execution_count": 21,
     "metadata": {},
     "output_type": "execute_result"
    }
   ],
   "source": [
    "ansatz.decompose().draw(output=\"mpl\")"
   ]
  },
  {
   "cell_type": "code",
   "execution_count": 22,
   "id": "anonymous-illness",
   "metadata": {},
   "outputs": [
    {
     "name": "stdout",
     "output_type": "stream",
     "text": [
      "1.0 * ZZZ\n"
     ]
    }
   ],
   "source": [
    "# specify the observable\n",
    "observable = PauliSumOp.from_list([(\"Z\" * num_qubits, 1)])\n",
    "print(observable)"
   ]
  },
  {
   "cell_type": "code",
   "execution_count": 23,
   "id": "novel-ownership",
   "metadata": {},
   "outputs": [],
   "source": [
    "# define two layer QNN\n",
    "qnn3 = TwoLayerQNN(\n",
    "    num_qubits, feature_map=fm, ansatz=ansatz, observable=observable, quantum_instance=qi_sv\n",
    ")"
   ]
  },
  {
   "cell_type": "code",
   "execution_count": 24,
   "id": "patient-protocol",
   "metadata": {},
   "outputs": [],
   "source": [
    "# define (random) input and weights\n",
    "input3 = algorithm_globals.random.random(qnn3.num_inputs)\n",
    "weights3 = algorithm_globals.random.random(qnn3.num_weights)"
   ]
  },
  {
   "cell_type": "code",
   "execution_count": 25,
   "id": "sweet-complement",
   "metadata": {},
   "outputs": [
    {
     "data": {
      "text/plain": [
       "array([[0.18276559]])"
      ]
     },
     "execution_count": 25,
     "metadata": {},
     "output_type": "execute_result"
    }
   ],
   "source": [
    "# QNN forward pass\n",
    "qnn3.forward(input3, weights3)"
   ]
  },
  {
   "cell_type": "code",
   "execution_count": 26,
   "id": "golden-worcester",
   "metadata": {},
   "outputs": [
    {
     "data": {
      "text/plain": [
       "(None,\n",
       " array([[[ 0.10231208,  0.10656571,  0.41017902,  0.16528909,\n",
       "          -0.27780262,  0.41365763]]]))"
      ]
     },
     "execution_count": 26,
     "metadata": {},
     "output_type": "execute_result"
    }
   ],
   "source": [
    "# QNN backward pass\n",
    "qnn3.backward(input3, weights3)"
   ]
  },
  {
   "cell_type": "markdown",
   "id": "according-watch",
   "metadata": {},
   "source": [
    "## 4. `CircuitQNN`\n",
    "\n",
    "The `CircuitQNN` is based on a (parametrized) `QuantumCircuit`.\n",
    "This can take input as well as weight parameters and produces samples from the measurement. The samples can either be interpreted as probabilities of measuring the integer index corresponding to a bitstring or directly as a batch of binary output. In the case of probabilities, gradients can be estimated efficiently and the `CircuitQNN` provides a backward pass as well. In case of samples, differentiation is not possible and the backward pass returns `(None, None)`.\n",
    "\n",
    "Further, the `CircuitQNN` allows to specify an `interpret` function to post-process the samples. This is expected to take a measured integer (from a bitstring) and map it to a new index, i.e. non-negative integer. In this case, the output shape needs to be provided and the probabilities are aggregated accordingly.\n",
    "\n",
    "A `CircuitQNN` can be configured to return sparse as well as dense probability vectors. If no `interpret` function is used, the dimension of the probability vector scales exponentially with the number of qubits and a sparse recommendation is usually recommended. In case of an `interpret` function it depends on the expected outcome. If, for instance, an index is mapped to the parity of the corresponding bitstring, i.e., to 0 or 1, a dense output makes sense and the result will be a probability vector of length 2."
   ]
  },
  {
   "cell_type": "code",
   "execution_count": 27,
   "id": "posted-shoot",
   "metadata": {},
   "outputs": [],
   "source": [
    "from qiskit_machine_learning.neural_networks import CircuitQNN"
   ]
  },
  {
   "cell_type": "code",
   "execution_count": 28,
   "id": "acceptable-standing",
   "metadata": {},
   "outputs": [
    {
     "data": {
      "image/png": "[encoded data removed]",
      "text/plain": [
       "<Figure size 267.197x204.68 with 1 Axes>"
      ]
     },
     "execution_count": 28,
     "metadata": {},
     "output_type": "execute_result"
    }
   ],
   "source": [
    "qc = RealAmplitudes(num_qubits, entanglement=\"linear\", reps=1)\n",
    "qc.draw(output=\"mpl\")"
   ]
  },
  {
   "cell_type": "code",
   "execution_count": 29,
   "id": "ce6874ce-092e-4bde-ac85-1fbdb1e6cab4",
   "metadata": {},
   "outputs": [
    {
     "data": {
      "image/png": "[encoded data removed]",
      "text/plain": [
       "<Figure size 327.397x204.68 with 1 Axes>"
      ]
     },
     "execution_count": 29,
     "metadata": {},
     "output_type": "execute_result"
    }
   ],
   "source": [
    "qc.decompose().draw(output=\"mpl\")"
   ]
  },
  {
   "cell_type": "markdown",
   "id": "8a325a29-fd02-472f-9fdc-770c0ab95d2e",
   "metadata": {},
   "source": [
    "### 4.1 Output: sparse integer probabilities"
   ]
  },
  {
   "cell_type": "code",
   "execution_count": 31,
   "id": "indoor-disorder",
   "metadata": {},
   "outputs": [],
   "source": [
    "# specify circuit QNN\n",
    "qnn4 = CircuitQNN(qc, [], qc.parameters, sparse=False, quantum_instance=qi_qasm)"
   ]
  },
  {
   "cell_type": "code",
   "execution_count": 32,
   "id": "beneficial-summary",
   "metadata": {},
   "outputs": [],
   "source": [
    "# define (random) input and weights\n",
    "input4 = algorithm_globals.random.random(qnn4.num_inputs)\n",
    "weights4 = algorithm_globals.random.random(qnn4.num_weights)"
   ]
  },
  {
   "cell_type": "code",
   "execution_count": 34,
   "id": "jewish-elements",
   "metadata": {},
   "outputs": [
    {
     "data": {
      "text/plain": [
       "array([[0.4, 0. , 0. , 0. , 0.2, 0.2, 0.1, 0.1]])"
      ]
     },
     "execution_count": 34,
     "metadata": {},
     "output_type": "execute_result"
    }
   ],
   "source": [
    "# QNN forward pass\n",
    "qnn4.forward(input4, weights4)  # returned as a sparse matrix"
   ]
  },
  {
   "cell_type": "code",
   "execution_count": 35,
   "id": "entitled-reaction",
   "metadata": {
    "scrolled": true
   },
   "outputs": [
    {
     "data": {
      "text/plain": [
       "(None,\n",
       " array([[[-0.2 , -0.25, -0.45, -0.05, -0.15, -0.3 ],\n",
       "         [ 0.  ,  0.1 ,  0.  , -0.15,  0.  , -0.05],\n",
       "         [ 0.  ,  0.  ,  0.  ,  0.  , -0.05,  0.  ],\n",
       "         [ 0.  ,  0.  ,  0.  ,  0.  ,  0.05, -0.15],\n",
       "         [-0.15, -0.2 ,  0.45,  0.  ,  0.  ,  0.25],\n",
       "         [ 0.  ,  0.  ,  0.05,  0.2 ,  0.05,  0.2 ],\n",
       "         [-0.1 ,  0.15,  0.  , -0.15,  0.05,  0.  ],\n",
       "         [ 0.45,  0.2 , -0.05,  0.15,  0.05,  0.05]]]))"
      ]
     },
     "execution_count": 35,
     "metadata": {},
     "output_type": "execute_result"
    }
   ],
   "source": [
    "# QNN backward pass, returns a tuple of sparse matrices\n",
    "qnn4.backward(input4, weights4)"
   ]
  },
  {
   "cell_type": "markdown",
   "id": "happy-glossary",
   "metadata": {},
   "source": [
    "### 4.2 Output: dense parity probabilities"
   ]
  },
  {
   "cell_type": "code",
   "execution_count": 36,
   "id": "potential-database",
   "metadata": {},
   "outputs": [],
   "source": [
    "# specify circuit QNN\n",
    "parity = lambda x: \"{:b}\".format(x).count(\"1\") % 2\n",
    "output_shape = 2  # this is required in case of a callable with dense output\n",
    "qnn6 = CircuitQNN(\n",
    "    qc,\n",
    "    [],\n",
    "    qc.parameters,\n",
    "    sparse=False,\n",
    "    interpret=parity,\n",
    "    output_shape=output_shape,\n",
    "    quantum_instance=qi_qasm,\n",
    ")"
   ]
  },
  {
   "cell_type": "code",
   "execution_count": 37,
   "id": "pending-series",
   "metadata": {},
   "outputs": [],
   "source": [
    "# define (random) input and weights\n",
    "input6 = algorithm_globals.random.random(qnn6.num_inputs)\n",
    "weights6 = algorithm_globals.random.random(qnn6.num_weights)"
   ]
  },
  {
   "cell_type": "code",
   "execution_count": 38,
   "id": "driven-stomach",
   "metadata": {},
   "outputs": [
    {
     "data": {
      "text/plain": [
       "array([[0.6, 0.4]])"
      ]
     },
     "execution_count": 38,
     "metadata": {},
     "output_type": "execute_result"
    }
   ],
   "source": [
    "# QNN forward pass\n",
    "qnn6.forward(input6, weights6)"
   ]
  },
  {
   "cell_type": "code",
   "execution_count": 39,
   "id": "lightweight-federation",
   "metadata": {
    "scrolled": true
   },
   "outputs": [
    {
     "data": {
      "text/plain": [
       "(None,\n",
       " array([[[-0.25,  0.25, -0.3 , -0.05,  0.05, -0.2 ],\n",
       "         [ 0.25, -0.25,  0.3 ,  0.05, -0.05,  0.2 ]]]))"
      ]
     },
     "execution_count": 39,
     "metadata": {},
     "output_type": "execute_result"
    }
   ],
   "source": [
    "# QNN backward pass\n",
    "qnn6.backward(input6, weights6)"
   ]
  },
  {
   "cell_type": "markdown",
   "id": "limited-blast",
   "metadata": {},
   "source": [
    "### 4.3 Output: Samples"
   ]
  },
  {
   "cell_type": "code",
   "execution_count": 40,
   "id": "apart-algebra",
   "metadata": {},
   "outputs": [],
   "source": [
    "# specify circuit QNN\n",
    "qnn7 = CircuitQNN(qc, [], qc.parameters, sampling=True, quantum_instance=qi_qasm)"
   ]
  },
  {
   "cell_type": "code",
   "execution_count": 41,
   "id": "laughing-techno",
   "metadata": {},
   "outputs": [],
   "source": [
    "# define (random) input and weights\n",
    "input7 = algorithm_globals.random.random(qnn7.num_inputs)\n",
    "weights7 = algorithm_globals.random.random(qnn7.num_weights)"
   ]
  },
  {
   "cell_type": "code",
   "execution_count": 42,
   "id": "everyday-norwegian",
   "metadata": {
    "scrolled": true
   },
   "outputs": [
    {
     "data": {
      "text/plain": [
       "array([[[1.],\n",
       "        [0.],\n",
       "        [7.],\n",
       "        [1.],\n",
       "        [7.],\n",
       "        [0.],\n",
       "        [7.],\n",
       "        [0.],\n",
       "        [0.],\n",
       "        [7.]]])"
      ]
     },
     "execution_count": 42,
     "metadata": {},
     "output_type": "execute_result"
    }
   ],
   "source": [
    "# QNN forward pass, results in samples of measured bit strings mapped to integers\n",
    "qnn7.forward(input7, weights7)"
   ]
  },
  {
   "cell_type": "code",
   "execution_count": 43,
   "id": "balanced-korea",
   "metadata": {},
   "outputs": [
    {
     "data": {
      "text/plain": [
       "(None, None)"
      ]
     },
     "execution_count": 43,
     "metadata": {},
     "output_type": "execute_result"
    }
   ],
   "source": [
    "# QNN backward pass\n",
    "qnn7.backward(input7, weights7)"
   ]
  },
  {
   "cell_type": "markdown",
   "id": "biological-thunder",
   "metadata": {},
   "source": [
    "### 4.4 Output: Parity Samples"
   ]
  },
  {
   "cell_type": "code",
   "execution_count": 44,
   "id": "broke-jonathan",
   "metadata": {},
   "outputs": [],
   "source": [
    "# specify circuit QNN\n",
    "qnn8 = CircuitQNN(qc, [], qc.parameters, sampling=True, interpret=parity, quantum_instance=qi_qasm)"
   ]
  },
  {
   "cell_type": "code",
   "execution_count": 45,
   "id": "satisfied-graph",
   "metadata": {},
   "outputs": [],
   "source": [
    "# define (random) input and weights\n",
    "input8 = algorithm_globals.random.random(qnn8.num_inputs)\n",
    "weights8 = algorithm_globals.random.random(qnn8.num_weights)"
   ]
  },
  {
   "cell_type": "code",
   "execution_count": 46,
   "id": "promotional-trash",
   "metadata": {},
   "outputs": [
    {
     "data": {
      "text/plain": [
       "array([[[1.],\n",
       "        [1.],\n",
       "        [1.],\n",
       "        [0.],\n",
       "        [0.],\n",
       "        [1.],\n",
       "        [1.],\n",
       "        [1.],\n",
       "        [1.],\n",
       "        [0.]]])"
      ]
     },
     "execution_count": 46,
     "metadata": {},
     "output_type": "execute_result"
    }
   ],
   "source": [
    "# QNN forward pass, results in samples of measured bit strings\n",
    "qnn8.forward(input8, weights8)"
   ]
  },
  {
   "cell_type": "code",
   "execution_count": 47,
   "id": "freelance-alfred",
   "metadata": {},
   "outputs": [
    {
     "data": {
      "text/plain": [
       "(None, None)"
      ]
     },
     "execution_count": 47,
     "metadata": {},
     "output_type": "execute_result"
    }
   ],
   "source": [
    "# QNN backward pass\n",
    "qnn8.backward(input8, weights8)"
   ]
  },
  {
   "cell_type": "code",
   "execution_count": 48,
   "id": "appointed-shirt",
   "metadata": {},
   "outputs": [
    {
     "data": {
      "text/html": [
       "<h3>Version Information</h3><table><tr><th>Qiskit Software</th><th>Version</th></tr><tr><td><code>qiskit-terra</code></td><td>0.20.2</td></tr><tr><td><code>qiskit-aer</code></td><td>0.10.4</td></tr><tr><td><code>qiskit-ignis</code></td><td>0.7.1</td></tr><tr><td><code>qiskit-ibmq-provider</code></td><td>0.19.1</td></tr><tr><td><code>qiskit</code></td><td>0.36.2</td></tr><tr><td><code>qiskit-nature</code></td><td>0.3.2</td></tr><tr><td><code>qiskit-finance</code></td><td>0.3.1</td></tr><tr><td><code>qiskit-optimization</code></td><td>0.3.2</td></tr><tr><td><code>qiskit-machine-learning</code></td><td>0.4.0</td></tr><tr><th>System information</th></tr><tr><td>Python version</td><td>3.8.13</td></tr><tr><td>Python compiler</td><td>GCC 10.3.0</td></tr><tr><td>Python build</td><td>default, Mar 25 2022 06:04:10</td></tr><tr><td>OS</td><td>Linux</td></tr><tr><td>CPUs</td><td>8</td></tr><tr><td>Memory (Gb)</td><td>31.21131134033203</td></tr><tr><td colspan='2'>Thu Jun 16 11:11:19 2022 UTC</td></tr></table>"
      ],
      "text/plain": [
       "<IPython.core.display.HTML object>"
      ]
     },
     "metadata": {},
     "output_type": "display_data"
    },
    {
     "data": {
      "text/html": [
       "<div style='width: 100%; background-color:#d5d9e0;padding-left: 10px; padding-bottom: 10px; padding-right: 10px; padding-top: 5px'><h3>This code is a part of Qiskit</h3><p>&copy; Copyright IBM 2017, 2022.</p><p>This code is licensed under the Apache License, Version 2.0. You may<br>obtain a copy of this license in the LICENSE.txt file in the root directory<br> of this source tree or at http://www.apache.org/licenses/LICENSE-2.0.<p>Any modifications or derivative works of this code must retain this<br>copyright notice, and modified files need to carry a notice indicating<br>that they have been altered from the originals.</p></div>"
      ],
      "text/plain": [
       "<IPython.core.display.HTML object>"
      ]
     },
     "metadata": {},
     "output_type": "display_data"
    }
   ],
   "source": [
    "import qiskit.tools.jupyter\n",
    "\n",
    "%qiskit_version_table\n",
    "%qiskit_copyright"
   ]
  },
  {
   "cell_type": "code",
   "execution_count": null,
   "id": "extensive-prescription",
   "metadata": {},
   "outputs": [],
   "source": []
  }
 ],
 "metadata": {
  "kernelspec": {
   "display_name": "Python 3 (ipykernel)",
   "language": "python",
   "name": "python3"
  },
  "language_info": {
   "codemirror_mode": {
    "name": "ipython",
    "version": 3
   },
   "file_extension": ".py",
   "mimetype": "text/x-python",
   "name": "python",
   "nbconvert_exporter": "python",
   "pygments_lexer": "ipython3",
   "version": "3.8.13"
  },
  "widgets": {
   "application/vnd.jupyter.widget-state+json": {
    "state": {
     "21ce39bf5dd6462c89a78fca48685312": {
      "model_module": "@jupyter-widgets/controls",
      "model_module_version": "1.5.0",
      "model_name": "ButtonModel",
      "state": {
       "button_style": "primary",
       "description": "Clear",
       "layout": "IPY_MODEL_9e7959460bc54f08b051f4c088f4581d",
       "style": "IPY_MODEL_ea08e11cf56b4ffb9a06ff64b2641f5e"
      }
     },
     "320de8712c174f0f860de9f5f7e95e8b": {
      "model_module": "@jupyter-widgets/controls",
      "model_module_version": "1.5.0",
      "model_name": "DescriptionStyleModel",
      "state": {
       "description_width": ""
      }
     },
     "3f6f117f3b354963b8e7d1a2cc588444": {
      "model_module": "@jupyter-widgets/controls",
      "model_module_version": "1.5.0",
      "model_name": "DescriptionStyleModel",
      "state": {
       "description_width": ""
      }
     },
     "42f0627eced04df295bf26163f48da2b": {
      "model_module": "@jupyter-widgets/controls",
      "model_module_version": "1.5.0",
      "model_name": "HTMLModel",
      "state": {
       "layout": "IPY_MODEL_ee132e0ce3434923a52e815f9df5388d",
       "style": "IPY_MODEL_4b65d707cbc641f09667848a6f62dd2e",
       "value": "<p style='font-family: IBM Plex Sans, Arial, Helvetica, sans-serif; font-size: 20px; font-weight: medium;'>Circuit Properties</p>"
      }
     },
     "4b65d707cbc641f09667848a6f62dd2e": {
      "model_module": "@jupyter-widgets/controls",
      "model_module_version": "1.5.0",
      "model_name": "DescriptionStyleModel",
      "state": {
       "description_width": ""
      }
     },
     "50b5267b18144559bca3ada9b3dfbf27": {
      "model_module": "@jupyter-widgets/controls",
      "model_module_version": "1.5.0",
      "model_name": "DescriptionStyleModel",
      "state": {
       "description_width": ""
      }
     },
     "51085eb80fd84244afa6bfe84e052ecc": {
      "model_module": "@jupyter-widgets/controls",
      "model_module_version": "1.5.0",
      "model_name": "HTMLModel",
      "state": {
       "layout": "IPY_MODEL_cf199aab2d094250bbbc4561d73d707e",
       "style": "IPY_MODEL_320de8712c174f0f860de9f5f7e95e8b",
       "value": "<h5>Queue</h5>"
      }
     },
     "6ed4f2efd8bb45f982dda35860279359": {
      "model_module": "@jupyter-widgets/controls",
      "model_module_version": "1.5.0",
      "model_name": "HTMLModel",
      "state": {
       "layout": "IPY_MODEL_85ad6045e20b4377b70ecf17e05711a1",
       "style": "IPY_MODEL_d9994883e10745d08ed240d966828fa0",
       "value": "<h5>Message</h5>"
      }
     },
     "7e04a7e7c1a6436088cb74bb5a526223": {
      "model_module": "@jupyter-widgets/controls",
      "model_module_version": "1.5.0",
      "model_name": "HTMLModel",
      "state": {
       "layout": "IPY_MODEL_94bcd7bbf1db4404886678c8881032af",
       "style": "IPY_MODEL_50b5267b18144559bca3ada9b3dfbf27",
       "value": "<h5>Backend</h5>"
      }
     },
     "838d20ab2d6240578c81c7dd6daff0bc": {
      "model_module": "@jupyter-widgets/base",
      "model_module_version": "1.2.0",
      "model_name": "LayoutModel",
      "state": {
       "width": "190px"
      }
     },
     "85ad6045e20b4377b70ecf17e05711a1": {
      "model_module": "@jupyter-widgets/base",
      "model_module_version": "1.2.0",
      "model_name": "LayoutModel",
      "state": {}
     },
     "94bcd7bbf1db4404886678c8881032af": {
      "model_module": "@jupyter-widgets/base",
      "model_module_version": "1.2.0",
      "model_name": "LayoutModel",
      "state": {
       "width": "145px"
      }
     },
     "9e7959460bc54f08b051f4c088f4581d": {
      "model_module": "@jupyter-widgets/base",
      "model_module_version": "1.2.0",
      "model_name": "LayoutModel",
      "state": {
       "grid_area": "right",
       "padding": "0px 0px 0px 0px",
       "width": "70px"
      }
     },
     "a1a01e4d7a02456390dac2dc10f98042": {
      "model_module": "@jupyter-widgets/controls",
      "model_module_version": "1.5.0",
      "model_name": "GridBoxModel",
      "state": {
       "children": [
        "IPY_MODEL_21ce39bf5dd6462c89a78fca48685312"
       ],
       "layout": "IPY_MODEL_b6de4f86147d44ae926ec7b2986ee284"
      }
     },
     "a7940e3204f14eabbf04c3ade24106da": {
      "model_module": "@jupyter-widgets/controls",
      "model_module_version": "1.5.0",
      "model_name": "HTMLModel",
      "state": {
       "layout": "IPY_MODEL_838d20ab2d6240578c81c7dd6daff0bc",
       "style": "IPY_MODEL_ffac48e827434b29be3a43f9c5c2754e",
       "value": "<h5>Job ID</h5>"
      }
     },
     "ac6a0adc6373484f8bf5419981114ea9": {
      "model_module": "@jupyter-widgets/controls",
      "model_module_version": "1.5.0",
      "model_name": "HBoxModel",
      "state": {
       "children": [
        "IPY_MODEL_a7940e3204f14eabbf04c3ade24106da",
        "IPY_MODEL_7e04a7e7c1a6436088cb74bb5a526223",
        "IPY_MODEL_c8473a37b12046b0a8f42b0ed432a208",
        "IPY_MODEL_51085eb80fd84244afa6bfe84e052ecc",
        "IPY_MODEL_6ed4f2efd8bb45f982dda35860279359"
       ],
       "layout": "IPY_MODEL_e7659b11bbd649098a3c23c98c7493ec"
      }
     },
     "b6de4f86147d44ae926ec7b2986ee284": {
      "model_module": "@jupyter-widgets/base",
      "model_module_version": "1.2.0",
      "model_name": "LayoutModel",
      "state": {
       "grid_template_areas": "\n                                       \". . . . right \"\n                                        ",
       "grid_template_columns": "20% 20% 20% 20% 20%",
       "width": "100%"
      }
     },
     "c8473a37b12046b0a8f42b0ed432a208": {
      "model_module": "@jupyter-widgets/controls",
      "model_module_version": "1.5.0",
      "model_name": "HTMLModel",
      "state": {
       "layout": "IPY_MODEL_f51ab12093834d27825233fe3be1c50e",
       "style": "IPY_MODEL_3f6f117f3b354963b8e7d1a2cc588444",
       "value": "<h5>Status</h5>"
      }
     },
     "cf199aab2d094250bbbc4561d73d707e": {
      "model_module": "@jupyter-widgets/base",
      "model_module_version": "1.2.0",
      "model_name": "LayoutModel",
      "state": {
       "width": "70px"
      }
     },
     "d9994883e10745d08ed240d966828fa0": {
      "model_module": "@jupyter-widgets/controls",
      "model_module_version": "1.5.0",
      "model_name": "DescriptionStyleModel",
      "state": {
       "description_width": ""
      }
     },
     "e7659b11bbd649098a3c23c98c7493ec": {
      "model_module": "@jupyter-widgets/base",
      "model_module_version": "1.2.0",
      "model_name": "LayoutModel",
      "state": {
       "margin": "0px 0px 0px 37px",
       "width": "600px"
      }
     },
     "ea08e11cf56b4ffb9a06ff64b2641f5e": {
      "model_module": "@jupyter-widgets/controls",
      "model_module_version": "1.5.0",
      "model_name": "ButtonStyleModel",
      "state": {}
     },
     "ee132e0ce3434923a52e815f9df5388d": {
      "model_module": "@jupyter-widgets/base",
      "model_module_version": "1.2.0",
      "model_name": "LayoutModel",
      "state": {
       "margin": "0px 0px 10px 0px"
      }
     },
     "f51ab12093834d27825233fe3be1c50e": {
      "model_module": "@jupyter-widgets/base",
      "model_module_version": "1.2.0",
      "model_name": "LayoutModel",
      "state": {
       "width": "95px"
      }
     },
     "ffac48e827434b29be3a43f9c5c2754e": {
      "model_module": "@jupyter-widgets/controls",
      "model_module_version": "1.5.0",
      "model_name": "DescriptionStyleModel",
      "state": {
       "description_width": ""
      }
     }
    },
    "version_major": 2,
    "version_minor": 0
   }
  }
 },
 "nbformat": 4,
 "nbformat_minor": 5
}
